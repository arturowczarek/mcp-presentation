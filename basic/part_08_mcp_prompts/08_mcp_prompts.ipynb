{
 "cells": [
  {
   "metadata": {},
   "cell_type": "markdown",
   "source": "# Prompts",
   "id": "a2ef116cb78f07e6"
  },
  {
   "metadata": {
    "ExecuteTime": {
     "end_time": "2025-10-15T11:16:01.801177Z",
     "start_time": "2025-10-15T11:16:01.771618Z"
    }
   },
   "cell_type": "code",
   "source": [
    "from basic.utils import print_mcp_config\n",
    "print_mcp_config(\"server_with_prompts.py\", \"finance\")"
   ],
   "id": "2bbb13c5ef8be391",
   "outputs": [
    {
     "name": "stdout",
     "output_type": "stream",
     "text": [
      "{\n",
      "    \"mcpServers\": {\n",
      "        \"finance\": {\n",
      "            \"command\": \"/Users/aowczarek/.local/bin/uv\",\n",
      "            \"args\": [\n",
      "                \"--directory\",\n",
      "                \"/Users/aowczarek/Documents/gid/mcp-presentation/basic/part_08_mcp_prompts\",\n",
      "                \"run\",\n",
      "                \"server_with_prompts.py\"\n",
      "            ]\n",
      "        }\n",
      "    }\n",
      "}\n"
     ]
    }
   ],
   "execution_count": 3
  },
  {
   "metadata": {
    "jupyter": {
     "is_executing": true
    }
   },
   "cell_type": "code",
   "source": "!npx --yes @modelcontextprotocol/inspector $(which uv) run $(pwd)/server_with_prompts.py",
   "id": "f5d79ea111fee60d",
   "outputs": [],
   "execution_count": null
  }
 ],
 "metadata": {
  "kernelspec": {
   "display_name": "Python 3",
   "language": "python",
   "name": "python3"
  },
  "language_info": {
   "codemirror_mode": {
    "name": "ipython",
    "version": 2
   },
   "file_extension": ".py",
   "mimetype": "text/x-python",
   "name": "python",
   "nbconvert_exporter": "python",
   "pygments_lexer": "ipython2",
   "version": "2.7.6"
  }
 },
 "nbformat": 4,
 "nbformat_minor": 5
}
