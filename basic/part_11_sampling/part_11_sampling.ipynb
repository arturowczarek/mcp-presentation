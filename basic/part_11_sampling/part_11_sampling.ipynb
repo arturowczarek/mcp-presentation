{
 "cells": [
  {
   "cell_type": "code",
   "id": "initial_id",
   "metadata": {
    "collapsed": true,
    "jupyter": {
     "is_executing": true
    },
    "ExecuteTime": {
     "end_time": "2025-10-15T10:54:49.036308Z",
     "start_time": "2025-10-15T10:53:21.645355Z"
    }
   },
   "source": "!npx --yes @modelcontextprotocol/inspector $(which uv) run $(pwd)/server_with_sampling.py",
   "outputs": [
    {
     "name": "stdout",
     "output_type": "stream",
     "text": [
      "\u001B[1G\u001B[0K⠙\u001B[1G\u001B[0K⠹\u001B[1G\u001B[0K⠸\u001B[1G\u001B[0K⠼\u001B[1G\u001B[0K⠴\u001B[1G\u001B[0KStarting MCP inspector...\r\n",
      "⚙️ Proxy server listening on localhost:6277\r\n",
      "🔑 Session token: c0ccbc31477769058e4a87220c325e0ff8d10db1fece8417c143e3293356398e\r\n",
      "   Use this token to authenticate requests or set DANGEROUSLY_OMIT_AUTH=true to disable auth\r\n",
      "\r\n",
      "🚀 MCP Inspector is up and running at:\r\n",
      "   http://localhost:6274/?MCP_PROXY_AUTH_TOKEN=c0ccbc31477769058e4a87220c325e0ff8d10db1fece8417c143e3293356398e\r\n",
      "\r\n",
      "🌐 Opening browser...\r\n",
      "New STDIO connection request\r\n",
      "Query parameters: {\"command\":\"/Users/aowczarek/.local/bin/uv\",\"args\":\"run /Users/aowczarek/Documents/gid/mcp-presentation/basic/part_11_sampling/server_with_sampling.py\",\"env\":\"{\\\"HOME\\\":\\\"/Users/aowczarek\\\",\\\"LOGNAME\\\":\\\"aowczarek\\\",\\\"PATH\\\":\\\"/Users/aowczarek/.npm/_npx/5a9d879542beca3a/node_modules/.bin:/Users/aowczarek/Documents/gid/mcp-presentation/basic/part_11_sampling/node_modules/.bin:/Users/aowczarek/Documents/gid/mcp-presentation/basic/node_modules/.bin:/Users/aowczarek/Documents/gid/mcp-presentation/node_modules/.bin:/Users/aowczarek/Documents/gid/node_modules/.bin:/Users/aowczarek/Documents/node_modules/.bin:/Users/aowczarek/node_modules/.bin:/Users/node_modules/.bin:/node_modules/.bin:/Users/aowczarek/.nvm/versions/node/v22.15.1/lib/node_modules/npm/node_modules/@npmcli/run-script/lib/node-gyp-bin:/Users/aowczarek/.local/bin:/Users/aowczarek/.nvm/versions/node/v22.15.1/bin:/Users/aowczarek/.sdkman/candidates/scala/current/bin:/Users/aowczarek/.sdkman/candidates/sbt/current/bin:/Users/aowczarek/.sdkman/candidates/java/current/bin:/opt/homebrew/bin:/opt/homebrew/sbin:/Users/aowczarek/.cargo/bin:/Users/aowczarek/.nix-profile/bin:/run/current-system/sw/bin:/nix/var/nix/profiles/default/bin:/usr/local/bin:/usr/bin:/bin:/usr/sbin:/sbin:/Users/aowczarek/Library/Application Support/JetBrains/Toolbox/scripts:/Users/aowczarek/.lmstudio/bin\\\",\\\"SHELL\\\":\\\"/bin/zsh\\\",\\\"TERM\\\":\\\"xterm-color\\\",\\\"USER\\\":\\\"aowczarek\\\"}\",\"transportType\":\"stdio\"}\r\n",
      "STDIO transport: command=/Users/aowczarek/.local/bin/uv, args=run,/Users/aowczarek/Documents/gid/mcp-presentation/basic/part_11_sampling/server_with_sampling.py\r\n",
      "Created client transport\r\n",
      "Created server transport\r\n",
      "Received POST message for sessionId da34cab3-8d5f-4e88-87e8-99a178f572f5\r\n",
      "Received POST message for sessionId da34cab3-8d5f-4e88-87e8-99a178f572f5\r\n",
      "Received POST message for sessionId da34cab3-8d5f-4e88-87e8-99a178f572f5\r\n",
      "Received POST message for sessionId da34cab3-8d5f-4e88-87e8-99a178f572f5\r\n",
      "Received POST message for sessionId da34cab3-8d5f-4e88-87e8-99a178f572f5\r\n",
      "^C\r\n",
      "\u001B[1G\u001B[0K⠙\u001B[1G\u001B[0K"
     ]
    }
   ],
   "execution_count": 1
  }
 ],
 "metadata": {
  "kernelspec": {
   "display_name": "Python 3",
   "language": "python",
   "name": "python3"
  },
  "language_info": {
   "codemirror_mode": {
    "name": "ipython",
    "version": 2
   },
   "file_extension": ".py",
   "mimetype": "text/x-python",
   "name": "python",
   "nbconvert_exporter": "python",
   "pygments_lexer": "ipython2",
   "version": "2.7.6"
  }
 },
 "nbformat": 4,
 "nbformat_minor": 5
}
