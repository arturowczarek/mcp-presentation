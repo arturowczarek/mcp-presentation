{
 "cells": [
  {
   "cell_type": "code",
   "id": "initial_id",
   "metadata": {
    "collapsed": true
   },
   "source": [
    "from basic.api_key import ensure_api_key\n",
    "ensure_api_key()\n",
    "from openai import OpenAI\n",
    "client = OpenAI()"
   ],
   "outputs": [],
   "execution_count": null
  },
  {
   "metadata": {},
   "cell_type": "code",
   "source": [
    "response = client.responses.create(\n",
    "    model=\"gpt-4o-mini\",\n",
    "    input=\"Write a Python code that is printing the first 10 Fibonacci numbers. Reply to me in pure Python. DO NOT USE MARKDOWN FORMATTING.\",\n",
    ")\n",
    "print(response.output_text)"
   ],
   "id": "492835ccb7f3f130",
   "outputs": [],
   "execution_count": null
  },
  {
   "metadata": {},
   "cell_type": "markdown",
   "source": "# Is it going to work?",
   "id": "a89ef7cf6a6da0dc"
  },
  {
   "metadata": {},
   "cell_type": "code",
   "source": "exec(response.output_text)",
   "id": "4b61668f80e45de6",
   "outputs": [],
   "execution_count": null
  },
  {
   "metadata": {},
   "cell_type": "markdown",
   "source": "# Other formats",
   "id": "4f5f5905b8a2e91"
  },
  {
   "metadata": {},
   "cell_type": "markdown",
   "source": "## CSV",
   "id": "f8f9159e3afaf760"
  },
  {
   "metadata": {},
   "cell_type": "code",
   "source": [
    "response = client.responses.create(\n",
    "    model=\"gpt-4o-mini\",\n",
    "    input=\"Write for me a content of a CSV file with 20 rows and 3 columns: name, age, city. Use only Polish names and cities. Include headers. DO NOT USE MARKDOWN FORMATTING. Just the CSV content.\",\n",
    ")\n",
    "print(response.output_text)"
   ],
   "id": "d2f964a2d4a766ce",
   "outputs": [],
   "execution_count": null
  },
  {
   "metadata": {},
   "cell_type": "code",
   "source": [
    "from io import StringIO\n",
    "import pandas as pd\n",
    "pd.read_csv(StringIO(response.output_text))"
   ],
   "id": "e9ef4f06bb1c3d01",
   "outputs": [],
   "execution_count": null
  },
  {
   "metadata": {},
   "cell_type": "markdown",
   "source": "## JSON",
   "id": "2a2b001d792f2dfa"
  },
  {
   "metadata": {},
   "cell_type": "code",
   "source": [
    "response = client.responses.create(\n",
    "    model=\"gpt-4o-mini\",\n",
    "    input=\"Generate a fictitious person. Reply to me in JSON format. DO NOT USE MARKDOWN FORMATTING. Just the JSON content. Please include the following fields: first_name (string), last_name (string), age (number), city (string), email (string).\",\n",
    ")\n",
    "print(response.output_text)"
   ],
   "id": "36f50ea1420dd0db",
   "outputs": [],
   "execution_count": null
  },
  {
   "metadata": {},
   "cell_type": "markdown",
   "source": "### Use Pydantic",
   "id": "1dd19ea774be8652"
  },
  {
   "metadata": {},
   "cell_type": "code",
   "source": [
    "from pydantic import BaseModel, Field\n",
    "import json\n",
    "\n",
    "class Person(BaseModel):\n",
    "    first_name: str = Field(description='First name of the person. It should be a common Polish first name.')\n",
    "    last_name: str = Field(description='Last name of the person. It should be a common Polish last name.')\n",
    "    age: int = Field(description='Age of the person. It should be a number between 0 and 120.')\n",
    "    city: str = Field(description='City where the person lives. It should be a common Polish city.')\n",
    "    email: str = Field(description='Email address of the person. It should be a valid email format in domain wp.pl, onet.pl or o2.pl.')\n",
    "\n",
    "schema = json.dumps(Person.model_json_schema())\n",
    "print(schema)"
   ],
   "id": "85383dd7af554c3e",
   "outputs": [],
   "execution_count": null
  },
  {
   "metadata": {},
   "cell_type": "code",
   "source": [
    "response = client.responses.create(\n",
    "    model=\"gpt-4o-mini\",\n",
    "    input=\"Generate a fictitious person. Reply to me in JSON format. DO NOT USE MARKDOWN FORMATTING. Just the JSON content. follow this schema: \" + schema,\n",
    ")\n",
    "print(response.output_text)"
   ],
   "id": "c69417bc5cb16059",
   "outputs": [],
   "execution_count": null
  },
  {
   "metadata": {},
   "cell_type": "code",
   "source": [
    "person = Person.model_validate_json(response.output_text)\n",
    "person"
   ],
   "id": "e574b4c87abee1b3",
   "outputs": [],
   "execution_count": null
  },
  {
   "metadata": {},
   "cell_type": "markdown",
   "source": "### With OpenAI SDK",
   "id": "530afcb901bbf33a"
  },
  {
   "metadata": {},
   "cell_type": "code",
   "source": [
    "# Here's a small change\n",
    "response = client.responses.parse(\n",
    "    model=\"gpt-4o-mini\",\n",
    "    input=\"Generate a fictitious person.\",\n",
    "    text_format=Person # And we add this\n",
    ")"
   ],
   "id": "88df310e403121c5",
   "outputs": [],
   "execution_count": null
  },
  {
   "metadata": {},
   "cell_type": "code",
   "source": "response.output_text",
   "id": "b1ddb62b13d05dd8",
   "outputs": [],
   "execution_count": null
  },
  {
   "metadata": {},
   "cell_type": "code",
   "source": [
    "person = Person.model_validate_json(response.output_text)\n",
    "person"
   ],
   "id": "a2f9807733ca97f1",
   "outputs": [],
   "execution_count": null
  },
  {
   "metadata": {},
   "cell_type": "code",
   "source": "",
   "id": "dff372b8c51de0b6",
   "outputs": [],
   "execution_count": null
  }
 ],
 "metadata": {
  "kernelspec": {
   "display_name": "Python 3",
   "language": "python",
   "name": "python3"
  },
  "language_info": {
   "codemirror_mode": {
    "name": "ipython",
    "version": 2
   },
   "file_extension": ".py",
   "mimetype": "text/x-python",
   "name": "python",
   "nbconvert_exporter": "python",
   "pygments_lexer": "ipython2",
   "version": "2.7.6"
  }
 },
 "nbformat": 4,
 "nbformat_minor": 5
}
