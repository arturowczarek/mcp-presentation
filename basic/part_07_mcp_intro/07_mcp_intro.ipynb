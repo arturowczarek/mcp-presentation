{
 "cells": [
  {
   "metadata": {},
   "cell_type": "markdown",
   "source": [
    "# The \"Protocol\" in Model Context Protocol\n",
    "\n",
    "\n",
    "## Initialization request\n",
    "```json\n",
    "{\n",
    "  \"jsonrpc\": \"2.0\",\n",
    "  \"id\": 1,\n",
    "  \"method\": \"initialize\",\n",
    "  \"params\": {\n",
    "    \"protocolVersion\": \"2025-06-18\",\n",
    "    \"capabilities\": {\n",
    "      \"elicitation\": {}\n",
    "    },\n",
    "    \"clientInfo\": {\n",
    "      \"name\": \"example-client\",\n",
    "      \"version\": \"1.0.0\"\n",
    "    }\n",
    "  }\n",
    "}\n",
    "```\n",
    "\n",
    "## Confirmation\n",
    "\n",
    "```json\n",
    "{\n",
    "  \"jsonrpc\": \"2.0\",\n",
    "  \"method\": \"notifications/initialized\"\n",
    "}\n",
    "```\n",
    "\n",
    "# Tools\n",
    "\n",
    "## Listing\n",
    "```json\n",
    "{\n",
    "  \"jsonrpc\": \"2.0\",\n",
    "  \"id\": 2,\n",
    "  \"method\": \"tools/list\"\n",
    "}\n",
    "```\n",
    "\n",
    "## Calling\n",
    "```json\n",
    "{\n",
    "  \"jsonrpc\": \"2.0\",\n",
    "  \"id\": 3,\n",
    "  \"method\": \"tools/call\",\n",
    "  \"params\": {\n",
    "    \"name\": \"get_current_price\",\n",
    "    \"arguments\": {\n",
    "      \"pair\": \"BTC/USD\"\n",
    "    }\n",
    "  }\n",
    "}\n",
    "```\n",
    "\n",
    "## Dynamic in nature\n",
    "- Tools can be added or removed at any time.\n",
    "\n",
    "```json\n",
    "{\n",
    "  \"jsonrpc\": \"2.0\",\n",
    "  \"method\": \"notifications/tools/list_changed\"\n",
    "}\n",
    "```\n",
    "\n",
    "# MCP inspector"
   ],
   "id": "8a8f13434c419217"
  },
  {
   "cell_type": "code",
   "id": "initial_id",
   "metadata": {
    "collapsed": true,
    "ExecuteTime": {
     "end_time": "2025-10-15T11:17:09.196412Z",
     "start_time": "2025-10-15T11:16:59.103173Z"
    }
   },
   "source": "!npx --yes @modelcontextprotocol/inspector $(which uv) run $(pwd)/simple_server.py",
   "outputs": [
    {
     "name": "stdout",
     "output_type": "stream",
     "text": [
      "\u001B[1G\u001B[0K⠙\u001B[1G\u001B[0K⠹\u001B[1G\u001B[0K⠸\u001B[1G\u001B[0K⠼\u001B[1G\u001B[0K⠴\u001B[1G\u001B[0K⠦\u001B[1G\u001B[0KStarting MCP inspector...\r\n",
      "⚙️ Proxy server listening on localhost:6277\r\n",
      "🔑 Session token: 74c91d842a9200d7c4708050e05364e41ee1b7221337298872afd56444fe358d\r\n",
      "   Use this token to authenticate requests or set DANGEROUSLY_OMIT_AUTH=true to disable auth\r\n",
      "\r\n",
      "🚀 MCP Inspector is up and running at:\r\n",
      "   http://localhost:6274/?MCP_PROXY_AUTH_TOKEN=74c91d842a9200d7c4708050e05364e41ee1b7221337298872afd56444fe358d\r\n",
      "\r\n",
      "🌐 Opening browser...\r\n",
      "^C\r\n",
      "\u001B[1G\u001B[0K⠙\u001B[1G\u001B[0K"
     ]
    }
   ],
   "execution_count": 5
  },
  {
   "metadata": {},
   "cell_type": "markdown",
   "source": "# Claude Desktop",
   "id": "42bc4d6acb93cee0"
  },
  {
   "metadata": {
    "ExecuteTime": {
     "end_time": "2025-10-15T11:15:55.430530Z",
     "start_time": "2025-10-15T11:15:55.395609Z"
    }
   },
   "cell_type": "code",
   "source": [
    "from basic.utils import print_mcp_config\n",
    "print_mcp_config(\"simple_server.py\", \"finance\")"
   ],
   "id": "6613436424abfb4e",
   "outputs": [
    {
     "name": "stdout",
     "output_type": "stream",
     "text": [
      "{\n",
      "    \"mcpServers\": {\n",
      "        \"finance\": {\n",
      "            \"command\": \"/Users/aowczarek/.local/bin/uv\",\n",
      "            \"args\": [\n",
      "                \"--directory\",\n",
      "                \"/Users/aowczarek/Documents/gid/mcp-presentation/basic/part_07_mcp_intro\",\n",
      "                \"run\",\n",
      "                \"simple_server.py\"\n",
      "            ]\n",
      "        }\n",
      "    }\n",
      "}\n"
     ]
    }
   ],
   "execution_count": 4
  },
  {
   "metadata": {},
   "cell_type": "code",
   "source": "",
   "id": "ae862c288c8a7b0c",
   "outputs": [],
   "execution_count": null
  }
 ],
 "metadata": {
  "kernelspec": {
   "display_name": "Python 3",
   "language": "python",
   "name": "python3"
  },
  "language_info": {
   "codemirror_mode": {
    "name": "ipython",
    "version": 2
   },
   "file_extension": ".py",
   "mimetype": "text/x-python",
   "name": "python",
   "nbconvert_exporter": "python",
   "pygments_lexer": "ipython2",
   "version": "2.7.6"
  }
 },
 "nbformat": 4,
 "nbformat_minor": 5
}
