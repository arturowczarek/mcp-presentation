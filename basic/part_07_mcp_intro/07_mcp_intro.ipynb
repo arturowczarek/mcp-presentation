{
 "cells": [
  {
   "metadata": {},
   "cell_type": "markdown",
   "source": [
    "# The \"Protocol\" in Model Context Protocol\n",
    "\n",
    "\n",
    "## Initialization request\n",
    "```json\n",
    "{\n",
    "  \"jsonrpc\": \"2.0\",\n",
    "  \"id\": 1,\n",
    "  \"method\": \"initialize\",\n",
    "  \"params\": {\n",
    "    \"protocolVersion\": \"2025-06-18\",\n",
    "    \"capabilities\": {\n",
    "      \"elicitation\": {}\n",
    "    },\n",
    "    \"clientInfo\": {\n",
    "      \"name\": \"example-client\",\n",
    "      \"version\": \"1.0.0\"\n",
    "    }\n",
    "  }\n",
    "}\n",
    "```\n",
    "\n",
    "## Confirmation\n",
    "\n",
    "```json\n",
    "{\n",
    "  \"jsonrpc\": \"2.0\",\n",
    "  \"method\": \"notifications/initialized\"\n",
    "}\n",
    "```\n",
    "\n",
    "# Tools\n",
    "\n",
    "## Listing\n",
    "```json\n",
    "{\n",
    "  \"jsonrpc\": \"2.0\",\n",
    "  \"id\": 2,\n",
    "  \"method\": \"tools/list\"\n",
    "}\n",
    "```\n",
    "\n",
    "## Calling\n",
    "```json\n",
    "{\n",
    "  \"jsonrpc\": \"2.0\",\n",
    "  \"id\": 3,\n",
    "  \"method\": \"tools/call\",\n",
    "  \"params\": {\n",
    "    \"name\": \"get_current_price\",\n",
    "    \"arguments\": {\n",
    "      \"pair\": \"BTC/USD\"\n",
    "    }\n",
    "  }\n",
    "}\n",
    "```\n",
    "\n",
    "## Dynamic in nature\n",
    "- Tools can be added or removed at any time.\n",
    "\n",
    "```json\n",
    "{\n",
    "  \"jsonrpc\": \"2.0\",\n",
    "  \"method\": \"notifications/tools/list_changed\"\n",
    "}\n",
    "```\n",
    "\n",
    "# MCP inspector"
   ],
   "id": "8a8f13434c419217"
  },
  {
   "cell_type": "code",
   "id": "initial_id",
   "metadata": {
    "collapsed": true,
    "jupyter": {
     "is_executing": true
    },
    "ExecuteTime": {
     "start_time": "2025-09-28T05:40:11.082605Z"
    }
   },
   "source": "!npx @modelcontextprotocol/inspector $(which uv) run $(pwd)/SimpleServer.py",
   "outputs": [
    {
     "name": "stdout",
     "output_type": "stream",
     "text": [
      "\u001B[1G\u001B[0K⠙\u001B[1G\u001B[0K⠹\u001B[1G\u001B[0K⠸\u001B[1G\u001B[0K⠼\u001B[1G\u001B[0K⠴\u001B[1G\u001B[0KStarting MCP inspector...\r\n",
      "⚙️ Proxy server listening on localhost:6277\r\n",
      "🔑 Session token: 4c6a5ebb3bdb92bc3989f78eda00109f65855ad8b2293223e1dbf2e7ed177564\r\n",
      "   Use this token to authenticate requests or set DANGEROUSLY_OMIT_AUTH=true to disable auth\r\n",
      "\r\n",
      "🚀 MCP Inspector is up and running at:\r\n",
      "   http://localhost:6274/?MCP_PROXY_AUTH_TOKEN=4c6a5ebb3bdb92bc3989f78eda00109f65855ad8b2293223e1dbf2e7ed177564\r\n",
      "\r\n",
      "🌐 Opening browser...\r\n"
     ]
    }
   ],
   "execution_count": null
  },
  {
   "metadata": {},
   "cell_type": "markdown",
   "source": "# Claude Desktop",
   "id": "42bc4d6acb93cee0"
  },
  {
   "metadata": {
    "ExecuteTime": {
     "end_time": "2025-09-24T07:25:27.340167Z",
     "start_time": "2025-09-24T07:25:27.318533Z"
    }
   },
   "cell_type": "code",
   "source": [
    "import json\n",
    "import os\n",
    "import shutil\n",
    "\n",
    "pwd = os.getcwd()\n",
    "which_uv = shutil.which(\"uv\")\n",
    "\n",
    "print(json.dumps({\n",
    "    \"mcpServers\": {\n",
    "        \"finance\": {\n",
    "            \"command\": which_uv,\n",
    "            \"args\": [\n",
    "                \"--directory\",\n",
    "                pwd,\n",
    "                \"run\",\n",
    "                \"SimpleServer.py\"\n",
    "            ]\n",
    "        }\n",
    "    }\n",
    "}, indent=4))\n"
   ],
   "id": "6613436424abfb4e",
   "outputs": [
    {
     "name": "stdout",
     "output_type": "stream",
     "text": [
      "{\n",
      "    \"mcpServers\": {\n",
      "        \"finance\": {\n",
      "            \"command\": \"/Users/aowczarek/.local/bin/uv\",\n",
      "            \"args\": [\n",
      "                \"--directory\",\n",
      "                \"/Users/aowczarek/Documents/gid/mcp-presentation/basic/07_mcp_intro\",\n",
      "                \"run\",\n",
      "                \"SimpleServer.py\"\n",
      "            ]\n",
      "        }\n",
      "    }\n",
      "}\n"
     ]
    }
   ],
   "execution_count": 12
  },
  {
   "metadata": {},
   "cell_type": "code",
   "outputs": [],
   "execution_count": null,
   "source": "",
   "id": "8e2c4426fee5c4ce"
  }
 ],
 "metadata": {
  "kernelspec": {
   "display_name": "Python 3",
   "language": "python",
   "name": "python3"
  },
  "language_info": {
   "codemirror_mode": {
    "name": "ipython",
    "version": 2
   },
   "file_extension": ".py",
   "mimetype": "text/x-python",
   "name": "python",
   "nbconvert_exporter": "python",
   "pygments_lexer": "ipython2",
   "version": "2.7.6"
  }
 },
 "nbformat": 4,
 "nbformat_minor": 5
}
