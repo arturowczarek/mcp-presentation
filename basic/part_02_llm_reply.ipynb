{
 "cells": [
  {
   "cell_type": "code",
   "id": "initial_id",
   "metadata": {
    "collapsed": true
   },
   "source": [
    "from time import sleep\n",
    "from basic.api_key import ensure_api_key\n",
    "ensure_api_key()"
   ],
   "outputs": [],
   "execution_count": null
  },
  {
   "metadata": {},
   "cell_type": "markdown",
   "source": [
    "# LLM Streaming\n",
    "\n",
    "## LLMs replying in tokens"
   ],
   "id": "b1d4e1168eacb83c"
  },
  {
   "metadata": {},
   "cell_type": "code",
   "source": [
    "from openai import OpenAI\n",
    "client = OpenAI()"
   ],
   "id": "9982d9100843fac0",
   "outputs": [],
   "execution_count": null
  },
  {
   "metadata": {},
   "cell_type": "code",
   "source": [
    "response = client.responses.create(\n",
    "    model=\"gpt-4o-mini\",\n",
    "    input=\"Write a Python code that is printing the first 10 Fibonacci numbers.\",\n",
    "    stream=True # LOOK HERE!\n",
    ")\n",
    "reply = \"\"\n",
    "for chunk in response:\n",
    "    if chunk.type == \"response.output_text.delta\":\n",
    "        sleep(0.2)\n",
    "        reply += chunk.delta\n",
    "        print(chunk.delta, flush=True)"
   ],
   "id": "91e8fb685683dd22",
   "outputs": [],
   "execution_count": null
  },
  {
   "metadata": {},
   "cell_type": "code",
   "source": "print(reply)",
   "id": "9bb87af969e6b238",
   "outputs": [],
   "execution_count": null
  },
  {
   "metadata": {},
   "cell_type": "markdown",
   "source": "# Reply as markdown",
   "id": "ce95063778da2ef3"
  },
  {
   "metadata": {},
   "cell_type": "code",
   "source": [
    "from IPython.core.display import Markdown\n",
    "display(Markdown(reply))"
   ],
   "id": "4b467f1bd8f3b5a1",
   "outputs": [],
   "execution_count": null
  },
  {
   "metadata": {},
   "cell_type": "code",
   "source": "",
   "id": "d79facebbe8a71ee",
   "outputs": [],
   "execution_count": null
  }
 ],
 "metadata": {
  "kernelspec": {
   "display_name": "Python 3",
   "language": "python",
   "name": "python3"
  },
  "language_info": {
   "codemirror_mode": {
    "name": "ipython",
    "version": 2
   },
   "file_extension": ".py",
   "mimetype": "text/x-python",
   "name": "python",
   "nbconvert_exporter": "python",
   "pygments_lexer": "ipython2",
   "version": "2.7.6"
  }
 },
 "nbformat": 4,
 "nbformat_minor": 5
}
