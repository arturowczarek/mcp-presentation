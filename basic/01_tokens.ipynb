{
 "cells": [
  {
   "cell_type": "code",
   "id": "initial_id",
   "metadata": {
    "collapsed": true,
    "ExecuteTime": {
     "end_time": "2025-09-14T13:52:21.505841Z",
     "start_time": "2025-09-14T13:52:21.500927Z"
    }
   },
   "source": [
    "import os\n",
    "from dotenv import load_dotenv\n",
    "from huggingface_hub import login\n",
    "from transformers import AutoTokenizer\n",
    "from basic.utils import dict_to_table\n",
    "load_dotenv(override=True)"
   ],
   "outputs": [
    {
     "data": {
      "text/plain": [
       "True"
      ]
     },
     "execution_count": 39,
     "metadata": {},
     "output_type": "execute_result"
    }
   ],
   "execution_count": 39
  },
  {
   "metadata": {
    "ExecuteTime": {
     "end_time": "2025-09-14T12:56:10.988594Z",
     "start_time": "2025-09-14T12:56:10.051602Z"
    }
   },
   "cell_type": "code",
   "source": "login(token = os.getenv('HF_TOKEN'), add_to_git_credential=True)",
   "id": "4920d17169c9b9fb",
   "outputs": [
    {
     "name": "stderr",
     "output_type": "stream",
     "text": [
      "Note: Environment variable`HF_TOKEN` is set and is the current active token independently from the token you've just configured.\n"
     ]
    }
   ],
   "execution_count": 10
  },
  {
   "metadata": {},
   "cell_type": "markdown",
   "source": "# Encoding",
   "id": "ea10355c883be75d"
  },
  {
   "metadata": {},
   "cell_type": "markdown",
   "source": [
    "## OpenAI tokenization\n",
    "https://platform.openai.com/tokenizer"
   ],
   "id": "15af65f1c871959d"
  },
  {
   "metadata": {
    "ExecuteTime": {
     "end_time": "2025-09-14T13:40:54.324482Z",
     "start_time": "2025-09-14T13:40:54.319859Z"
    }
   },
   "cell_type": "code",
   "source": [
    "import tiktoken\n",
    "enc = tiktoken.encoding_for_model(\"gpt-4o-mini\")\n",
    "text = \"What is the capital of Poland?\"\n",
    "\n",
    "# Encode into token IDs\n",
    "tokens = enc.encode(text)\n",
    "print(\"Token IDs:\", tokens)\n",
    "\n",
    "# Decode IDs back into strings\n",
    "print(\"Decoded pieces:\", [enc.decode([t]) for t in tokens])"
   ],
   "id": "41a39a45e3109eb0",
   "outputs": [
    {
     "name": "stdout",
     "output_type": "stream",
     "text": [
      "Token IDs: [4827, 382, 290, 9029, 328, 50029, 30]\n",
      "Decoded pieces: ['What', ' is', ' the', ' capital', ' of', ' Poland', '?']\n"
     ]
    }
   ],
   "execution_count": 30
  },
  {
   "metadata": {
    "ExecuteTime": {
     "end_time": "2025-09-14T13:41:13.296880Z",
     "start_time": "2025-09-14T13:41:13.293095Z"
    }
   },
   "cell_type": "code",
   "source": [
    "# The same text may be tokenized differently\n",
    "tokens = enc.encode(\"of of\")\n",
    "print(\"Token IDs:\", tokens)\n",
    "print(\"Decoded pieces:\", [enc.decode([t]) for t in tokens])"
   ],
   "id": "a74078e8d6863c29",
   "outputs": [
    {
     "name": "stdout",
     "output_type": "stream",
     "text": [
      "Token IDs: [1440, 328]\n",
      "Decoded pieces: ['of', ' of']\n"
     ]
    }
   ],
   "execution_count": 31
  },
  {
   "metadata": {},
   "cell_type": "markdown",
   "source": "## LLama tokenization",
   "id": "787e0e020ed81c1e"
  },
  {
   "metadata": {
    "ExecuteTime": {
     "end_time": "2025-09-14T13:58:30.000795Z",
     "start_time": "2025-09-14T13:58:16.811100Z"
    }
   },
   "cell_type": "code",
   "source": [
    "tokenizer = AutoTokenizer.from_pretrained('meta-llama/Llama-3.2-3B-Instruct', trust_remote_code=True)\n",
    "text = \"What is the capital of Poland?\"\n",
    "tokens = tokenizer.encode(text)\n",
    "tokens"
   ],
   "id": "7e18fbf69dfee1ba",
   "outputs": [
    {
     "data": {
      "text/plain": [
       "config.json:   0%|          | 0.00/878 [00:00<?, ?B/s]"
      ],
      "application/vnd.jupyter.widget-view+json": {
       "version_major": 2,
       "version_minor": 0,
       "model_id": "b3aea40f117141e2b7707b38fb19bcc9"
      }
     },
     "metadata": {},
     "output_type": "display_data",
     "jetTransient": {
      "display_id": null
     }
    },
    {
     "data": {
      "text/plain": [
       "tokenizer_config.json:   0%|          | 0.00/54.5k [00:00<?, ?B/s]"
      ],
      "application/vnd.jupyter.widget-view+json": {
       "version_major": 2,
       "version_minor": 0,
       "model_id": "8d418e72ea464aaf9c615c2d15b24ff3"
      }
     },
     "metadata": {},
     "output_type": "display_data",
     "jetTransient": {
      "display_id": null
     }
    },
    {
     "data": {
      "text/plain": [
       "tokenizer.json:   0%|          | 0.00/9.09M [00:00<?, ?B/s]"
      ],
      "application/vnd.jupyter.widget-view+json": {
       "version_major": 2,
       "version_minor": 0,
       "model_id": "bce71e1bfb9042ab9c1e836f8d1323cf"
      }
     },
     "metadata": {},
     "output_type": "display_data",
     "jetTransient": {
      "display_id": null
     }
    },
    {
     "data": {
      "text/plain": [
       "special_tokens_map.json:   0%|          | 0.00/296 [00:00<?, ?B/s]"
      ],
      "application/vnd.jupyter.widget-view+json": {
       "version_major": 2,
       "version_minor": 0,
       "model_id": "9221db892a90416f82720b192552f126"
      }
     },
     "metadata": {},
     "output_type": "display_data",
     "jetTransient": {
      "display_id": null
     }
    },
    {
     "name": "stderr",
     "output_type": "stream",
     "text": [
      "The tokenizer class you load from this checkpoint is not the same type as the class this function is called from. It may result in unexpected tokenization. \n",
      "The tokenizer class you load from this checkpoint is 'PreTrainedTokenizerFast'. \n",
      "The class this function is called from is 'LlamaTokenizerFast'.\n",
      "You are using the default legacy behaviour of the <class 'transformers.models.llama.tokenization_llama_fast.LlamaTokenizerFast'>. This is expected, and simply means that the `legacy` (previous) behavior will be used so nothing changes for you. If you want to use the new behaviour, set `legacy=False`. This should only be set if you understand what it means, and thoroughly read the reason why this was added as explained in https://github.com/huggingface/transformers/pull/24565 - if you loaded a llama tokenizer from a GGUF file you can ignore this message.\n"
     ]
    },
    {
     "data": {
      "text/plain": [
       "[128000, 3923, 374, 279, 6864, 315, 28702, 30]"
      ]
     },
     "execution_count": 48,
     "metadata": {},
     "output_type": "execute_result"
    }
   ],
   "execution_count": 48
  },
  {
   "metadata": {
    "ExecuteTime": {
     "end_time": "2025-09-14T13:58:33.764910Z",
     "start_time": "2025-09-14T13:58:33.760924Z"
    }
   },
   "cell_type": "code",
   "source": "tokenizer.decode(tokens)",
   "id": "dc62f3dda40c6bdd",
   "outputs": [
    {
     "data": {
      "text/plain": [
       "'<|begin_of_text|>What is the capital of Poland?'"
      ]
     },
     "execution_count": 49,
     "metadata": {},
     "output_type": "execute_result"
    }
   ],
   "execution_count": 49
  },
  {
   "metadata": {
    "ExecuteTime": {
     "end_time": "2025-09-14T13:58:35.989328Z",
     "start_time": "2025-09-14T13:58:35.924892Z"
    }
   },
   "cell_type": "code",
   "source": "dict_to_table(tokenizer.vocab)",
   "id": "2e1e45163d5fbe76",
   "outputs": [
    {
     "data": {
      "text/plain": [
       "                  Key   Value\n",
       "0             Ġheroic   56375\n",
       "1              .Today   73772\n",
       "2       ĠSurveillance   76458\n",
       "3               Known   49306\n",
       "4        ĠFontAwesome   60011\n",
       "...               ...     ...\n",
       "128252          /site   48981\n",
       "128253            zim  118301\n",
       "128254            !(:   50216\n",
       "128255         .Query   16060\n",
       "128256        Ġdesign    2955\n",
       "\n",
       "[128257 rows x 2 columns]"
      ],
      "text/html": [
       "<div>\n",
       "<style scoped>\n",
       "    .dataframe tbody tr th:only-of-type {\n",
       "        vertical-align: middle;\n",
       "    }\n",
       "\n",
       "    .dataframe tbody tr th {\n",
       "        vertical-align: top;\n",
       "    }\n",
       "\n",
       "    .dataframe thead th {\n",
       "        text-align: right;\n",
       "    }\n",
       "</style>\n",
       "<table border=\"1\" class=\"dataframe\">\n",
       "  <thead>\n",
       "    <tr style=\"text-align: right;\">\n",
       "      <th></th>\n",
       "      <th>Key</th>\n",
       "      <th>Value</th>\n",
       "    </tr>\n",
       "  </thead>\n",
       "  <tbody>\n",
       "    <tr>\n",
       "      <th>0</th>\n",
       "      <td>Ġheroic</td>\n",
       "      <td>56375</td>\n",
       "    </tr>\n",
       "    <tr>\n",
       "      <th>1</th>\n",
       "      <td>.Today</td>\n",
       "      <td>73772</td>\n",
       "    </tr>\n",
       "    <tr>\n",
       "      <th>2</th>\n",
       "      <td>ĠSurveillance</td>\n",
       "      <td>76458</td>\n",
       "    </tr>\n",
       "    <tr>\n",
       "      <th>3</th>\n",
       "      <td>Known</td>\n",
       "      <td>49306</td>\n",
       "    </tr>\n",
       "    <tr>\n",
       "      <th>4</th>\n",
       "      <td>ĠFontAwesome</td>\n",
       "      <td>60011</td>\n",
       "    </tr>\n",
       "    <tr>\n",
       "      <th>...</th>\n",
       "      <td>...</td>\n",
       "      <td>...</td>\n",
       "    </tr>\n",
       "    <tr>\n",
       "      <th>128252</th>\n",
       "      <td>/site</td>\n",
       "      <td>48981</td>\n",
       "    </tr>\n",
       "    <tr>\n",
       "      <th>128253</th>\n",
       "      <td>zim</td>\n",
       "      <td>118301</td>\n",
       "    </tr>\n",
       "    <tr>\n",
       "      <th>128254</th>\n",
       "      <td>!(:</td>\n",
       "      <td>50216</td>\n",
       "    </tr>\n",
       "    <tr>\n",
       "      <th>128255</th>\n",
       "      <td>.Query</td>\n",
       "      <td>16060</td>\n",
       "    </tr>\n",
       "    <tr>\n",
       "      <th>128256</th>\n",
       "      <td>Ġdesign</td>\n",
       "      <td>2955</td>\n",
       "    </tr>\n",
       "  </tbody>\n",
       "</table>\n",
       "<p>128257 rows × 2 columns</p>\n",
       "</div>"
      ]
     },
     "execution_count": 50,
     "metadata": {},
     "output_type": "execute_result"
    }
   ],
   "execution_count": 50
  },
  {
   "metadata": {
    "ExecuteTime": {
     "end_time": "2025-09-14T13:58:38.676261Z",
     "start_time": "2025-09-14T13:58:38.673570Z"
    }
   },
   "cell_type": "code",
   "source": [
    "def token_to_text(t, value):\n",
    "    return [k for k, v in t.items() if v == value]"
   ],
   "id": "505133d797c3bc3c",
   "outputs": [],
   "execution_count": 51
  },
  {
   "metadata": {
    "ExecuteTime": {
     "end_time": "2025-09-14T13:58:40.061186Z",
     "start_time": "2025-09-14T13:58:40.022294Z"
    }
   },
   "cell_type": "code",
   "source": "token_to_text(tokenizer.vocab, 3923)",
   "id": "7da6adf9ed31f7c4",
   "outputs": [
    {
     "data": {
      "text/plain": [
       "['What']"
      ]
     },
     "execution_count": 52,
     "metadata": {},
     "output_type": "execute_result"
    }
   ],
   "execution_count": 52
  },
  {
   "metadata": {
    "ExecuteTime": {
     "end_time": "2025-09-14T13:58:42.127721Z",
     "start_time": "2025-09-14T13:58:42.121262Z"
    }
   },
   "cell_type": "code",
   "source": "dict_to_table(tokenizer.get_added_vocab())",
   "id": "fb1115690c8d7243",
   "outputs": [
    {
     "data": {
      "text/plain": [
       "                                Key   Value\n",
       "0                 <|begin_of_text|>  128000\n",
       "1                   <|end_of_text|>  128001\n",
       "2      <|reserved_special_token_0|>  128002\n",
       "3      <|reserved_special_token_1|>  128003\n",
       "4         <|finetune_right_pad_id|>  128004\n",
       "..                              ...     ...\n",
       "252  <|reserved_special_token_244|>  128252\n",
       "253  <|reserved_special_token_245|>  128253\n",
       "254  <|reserved_special_token_246|>  128254\n",
       "255  <|reserved_special_token_247|>  128255\n",
       "256                           <unk>  128256\n",
       "\n",
       "[257 rows x 2 columns]"
      ],
      "text/html": [
       "<div>\n",
       "<style scoped>\n",
       "    .dataframe tbody tr th:only-of-type {\n",
       "        vertical-align: middle;\n",
       "    }\n",
       "\n",
       "    .dataframe tbody tr th {\n",
       "        vertical-align: top;\n",
       "    }\n",
       "\n",
       "    .dataframe thead th {\n",
       "        text-align: right;\n",
       "    }\n",
       "</style>\n",
       "<table border=\"1\" class=\"dataframe\">\n",
       "  <thead>\n",
       "    <tr style=\"text-align: right;\">\n",
       "      <th></th>\n",
       "      <th>Key</th>\n",
       "      <th>Value</th>\n",
       "    </tr>\n",
       "  </thead>\n",
       "  <tbody>\n",
       "    <tr>\n",
       "      <th>0</th>\n",
       "      <td>&lt;|begin_of_text|&gt;</td>\n",
       "      <td>128000</td>\n",
       "    </tr>\n",
       "    <tr>\n",
       "      <th>1</th>\n",
       "      <td>&lt;|end_of_text|&gt;</td>\n",
       "      <td>128001</td>\n",
       "    </tr>\n",
       "    <tr>\n",
       "      <th>2</th>\n",
       "      <td>&lt;|reserved_special_token_0|&gt;</td>\n",
       "      <td>128002</td>\n",
       "    </tr>\n",
       "    <tr>\n",
       "      <th>3</th>\n",
       "      <td>&lt;|reserved_special_token_1|&gt;</td>\n",
       "      <td>128003</td>\n",
       "    </tr>\n",
       "    <tr>\n",
       "      <th>4</th>\n",
       "      <td>&lt;|finetune_right_pad_id|&gt;</td>\n",
       "      <td>128004</td>\n",
       "    </tr>\n",
       "    <tr>\n",
       "      <th>...</th>\n",
       "      <td>...</td>\n",
       "      <td>...</td>\n",
       "    </tr>\n",
       "    <tr>\n",
       "      <th>252</th>\n",
       "      <td>&lt;|reserved_special_token_244|&gt;</td>\n",
       "      <td>128252</td>\n",
       "    </tr>\n",
       "    <tr>\n",
       "      <th>253</th>\n",
       "      <td>&lt;|reserved_special_token_245|&gt;</td>\n",
       "      <td>128253</td>\n",
       "    </tr>\n",
       "    <tr>\n",
       "      <th>254</th>\n",
       "      <td>&lt;|reserved_special_token_246|&gt;</td>\n",
       "      <td>128254</td>\n",
       "    </tr>\n",
       "    <tr>\n",
       "      <th>255</th>\n",
       "      <td>&lt;|reserved_special_token_247|&gt;</td>\n",
       "      <td>128255</td>\n",
       "    </tr>\n",
       "    <tr>\n",
       "      <th>256</th>\n",
       "      <td>&lt;unk&gt;</td>\n",
       "      <td>128256</td>\n",
       "    </tr>\n",
       "  </tbody>\n",
       "</table>\n",
       "<p>257 rows × 2 columns</p>\n",
       "</div>"
      ]
     },
     "execution_count": 53,
     "metadata": {},
     "output_type": "execute_result"
    }
   ],
   "execution_count": 53
  },
  {
   "metadata": {},
   "cell_type": "markdown",
   "source": "## Tokenizing the chat conversation",
   "id": "c915e739dd8f0768"
  },
  {
   "metadata": {
    "ExecuteTime": {
     "end_time": "2025-09-14T13:59:56.988351Z",
     "start_time": "2025-09-14T13:59:56.985225Z"
    }
   },
   "cell_type": "code",
   "source": [
    "messages=[\n",
    "    {\"role\": \"system\", \"content\": \"You are a helpful assistant that is good with geography.\"},\n",
    "    {\"role\": \"user\", \"content\": \"What is the capital of Poland?\"},\n",
    "    {\"role\": \"assistant\", \"content\": \"The capital of Poland is Warsaw.\"},\n",
    "    {\"role\": \"user\", \"content\": \"And of Germany?\"},\n",
    "]"
   ],
   "id": "b72bfcd1d8ba7560",
   "outputs": [],
   "execution_count": 54
  },
  {
   "metadata": {
    "ExecuteTime": {
     "end_time": "2025-09-14T13:59:58.959407Z",
     "start_time": "2025-09-14T13:59:58.942413Z"
    }
   },
   "cell_type": "code",
   "source": [
    "prompt = tokenizer.apply_chat_template(messages, tokenize=False, add_generation_prompt=True)\n",
    "print(prompt)"
   ],
   "id": "124f6c3a3c87d148",
   "outputs": [
    {
     "name": "stdout",
     "output_type": "stream",
     "text": [
      "<|begin_of_text|><|start_header_id|>system<|end_header_id|>\n",
      "\n",
      "Cutting Knowledge Date: December 2023\n",
      "Today Date: 14 Sep 2025\n",
      "\n",
      "You are a helpful assistant that is good with geography.<|eot_id|><|start_header_id|>user<|end_header_id|>\n",
      "\n",
      "What is the capital of Poland?<|eot_id|><|start_header_id|>assistant<|end_header_id|>\n",
      "\n",
      "The capital of Poland is Warsaw.<|eot_id|><|start_header_id|>user<|end_header_id|>\n",
      "\n",
      "And of Germany?<|eot_id|><|start_header_id|>assistant<|end_header_id|>\n",
      "\n",
      "\n"
     ]
    }
   ],
   "execution_count": 55
  },
  {
   "metadata": {},
   "cell_type": "code",
   "outputs": [],
   "execution_count": null,
   "source": "",
   "id": "4ce74b0fd80210b2"
  }
 ],
 "metadata": {
  "kernelspec": {
   "display_name": "Python 3",
   "language": "python",
   "name": "python3"
  },
  "language_info": {
   "codemirror_mode": {
    "name": "ipython",
    "version": 2
   },
   "file_extension": ".py",
   "mimetype": "text/x-python",
   "name": "python",
   "nbconvert_exporter": "python",
   "pygments_lexer": "ipython2",
   "version": "2.7.6"
  }
 },
 "nbformat": 4,
 "nbformat_minor": 5
}
