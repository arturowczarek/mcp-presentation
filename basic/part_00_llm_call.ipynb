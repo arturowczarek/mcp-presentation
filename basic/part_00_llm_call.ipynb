{
 "cells": [
  {
   "cell_type": "code",
   "id": "initial_id",
   "metadata": {
    "collapsed": true
   },
   "source": [
    "from basic.api_key import ensure_api_key\n",
    "ensure_api_key()"
   ],
   "outputs": [],
   "execution_count": null
  },
  {
   "metadata": {},
   "cell_type": "code",
   "source": [
    "from openai import OpenAI\n",
    "client = OpenAI()"
   ],
   "id": "21be66468cb76add",
   "outputs": [],
   "execution_count": null
  },
  {
   "metadata": {},
   "cell_type": "code",
   "source": [
    "response = client.responses.create(\n",
    "    model=\"gpt-4o-mini\",\n",
    "    instructions=\"You are a helpful assistant that is good with geography.\",\n",
    "    input=\"What is the capital of Poland?\"\n",
    ")\n",
    "print(response.output_text)"
   ],
   "id": "217b8eed65dd0f38",
   "outputs": [],
   "execution_count": null
  },
  {
   "metadata": {},
   "cell_type": "markdown",
   "source": "## The \"old\" way",
   "id": "9a5d0c19177c2d8b"
  },
  {
   "metadata": {},
   "cell_type": "code",
   "source": [
    "completion = client.chat.completions.create(\n",
    "    model=\"gpt-4o-mini\",\n",
    "    messages=[\n",
    "        {\"role\": \"system\", \"content\": \"You are a helpful assistant that is good with geography.\"},\n",
    "        {\"role\": \"user\", \"content\": \"What is the capital of Poland?\"},\n",
    "    ],\n",
    ")\n",
    "\n",
    "capital_of_poland_response = completion.choices[0].message.content\n",
    "print(capital_of_poland_response)"
   ],
   "id": "459ac142be5f7f63",
   "outputs": [],
   "execution_count": null
  },
  {
   "metadata": {},
   "cell_type": "code",
   "source": [
    "completion_germany = client.chat.completions.create(\n",
    "    model=\"gpt-4o-mini\",\n",
    "    messages=[\n",
    "        {\"role\": \"system\", \"content\": \"You are a helpful assistant that is good with geography.\"},\n",
    "        {\"role\": \"user\", \"content\": \"What is the capital of Poland?\"},\n",
    "        {\"role\": \"assistant\", \"content\": capital_of_poland_response},\n",
    "        {\"role\": \"user\", \"content\": \"And of Germany?\"},\n",
    "    ]\n",
    ")\n",
    "capital_of_germany_response = completion_germany.choices[0].message.content\n",
    "print(capital_of_germany_response)"
   ],
   "id": "9252b6fcfbc4be20",
   "outputs": [],
   "execution_count": null
  },
  {
   "metadata": {},
   "cell_type": "code",
   "source": "",
   "id": "618bcfdc6492b379",
   "outputs": [],
   "execution_count": null
  }
 ],
 "metadata": {
  "kernelspec": {
   "display_name": "Python 3",
   "language": "python",
   "name": "python3"
  },
  "language_info": {
   "codemirror_mode": {
    "name": "ipython",
    "version": 2
   },
   "file_extension": ".py",
   "mimetype": "text/x-python",
   "name": "python",
   "nbconvert_exporter": "python",
   "pygments_lexer": "ipython2",
   "version": "2.7.6"
  }
 },
 "nbformat": 4,
 "nbformat_minor": 5
}
