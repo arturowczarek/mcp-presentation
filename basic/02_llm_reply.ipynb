{
 "cells": [
  {
   "cell_type": "code",
   "id": "initial_id",
   "metadata": {
    "collapsed": true,
    "ExecuteTime": {
     "end_time": "2025-09-14T14:25:33.906828Z",
     "start_time": "2025-09-14T14:25:33.902743Z"
    }
   },
   "source": [
    "from time import sleep\n",
    "from basic.api_key import ensure_api_key\n",
    "ensure_api_key()"
   ],
   "outputs": [
    {
     "name": "stdout",
     "output_type": "stream",
     "text": [
      "OpenAI API key has been configured.\n"
     ]
    }
   ],
   "execution_count": 33
  },
  {
   "metadata": {},
   "cell_type": "markdown",
   "source": [
    "# LLM Streaming\n",
    "\n",
    "## LLMs replying in tokens"
   ],
   "id": "b1d4e1168eacb83c"
  },
  {
   "metadata": {
    "ExecuteTime": {
     "end_time": "2025-09-14T14:25:35.687374Z",
     "start_time": "2025-09-14T14:25:35.660771Z"
    }
   },
   "cell_type": "code",
   "source": [
    "from openai import OpenAI\n",
    "client = OpenAI()"
   ],
   "id": "9982d9100843fac0",
   "outputs": [],
   "execution_count": 34
  },
  {
   "metadata": {
    "ExecuteTime": {
     "end_time": "2025-09-14T14:27:41.991989Z",
     "start_time": "2025-09-14T14:27:09.491598Z"
    }
   },
   "cell_type": "code",
   "source": [
    "response = client.responses.create(\n",
    "    model=\"gpt-4o-mini\",\n",
    "    input=\"Write a Python code that is printing the first 10 Fibonacci numbers.\",\n",
    "    stream=True # LOOK HERE!\n",
    ")\n",
    "reply = \"\"\n",
    "for chunk in response:\n",
    "    if chunk.type == \"response.output_text.delta\":\n",
    "        sleep(0.2)\n",
    "        reply += chunk.delta\n",
    "        print(chunk.delta, flush=True)"
   ],
   "id": "91e8fb685683dd22",
   "outputs": [
    {
     "name": "stderr",
     "output_type": "stream",
     "text": [
      "[2025-09-14 16:27:10 - httpx:1025 - INFO] HTTP Request: POST https://api.openai.com/v1/responses \"HTTP/1.1 200 OK\"\n"
     ]
    },
    {
     "name": "stdout",
     "output_type": "stream",
     "text": [
      "Certainly\n",
      "!\n",
      " Here\n",
      "’s\n",
      " a\n",
      " simple\n",
      " Python\n",
      " code\n",
      " snippet\n",
      " to\n",
      " print\n",
      " the\n",
      " first\n",
      " \n",
      "10\n",
      " Fibonacci\n",
      " numbers\n",
      ":\n",
      "\n",
      "\n",
      "```\n",
      "python\n",
      "\n",
      "\n",
      "def\n",
      " fibonacci\n",
      "(n\n",
      "):\n",
      "\n",
      "   \n",
      " fib\n",
      "_sequence\n",
      " =\n",
      " []\n",
      "\n",
      "   \n",
      " a\n",
      ",\n",
      " b\n",
      " =\n",
      " \n",
      "0\n",
      ",\n",
      " \n",
      "1\n",
      "\n",
      "\n",
      "   \n",
      " while\n",
      " len\n",
      "(f\n",
      "ib\n",
      "_sequence\n",
      ")\n",
      " <\n",
      " n\n",
      ":\n",
      "\n",
      "       \n",
      " fib\n",
      "_sequence\n",
      ".append\n",
      "(a\n",
      ")\n",
      "\n",
      "       \n",
      " a\n",
      ",\n",
      " b\n",
      " =\n",
      " b\n",
      ",\n",
      " a\n",
      " +\n",
      " b\n",
      "\n",
      "\n",
      "   \n",
      " return\n",
      " fib\n",
      "_sequence\n",
      "\n",
      "\n",
      "\n",
      "#\n",
      " Print\n",
      " the\n",
      " first\n",
      " \n",
      "10\n",
      " Fibonacci\n",
      " numbers\n",
      "\n",
      "\n",
      "first\n",
      "_\n",
      "10\n",
      "_f\n",
      "ib\n",
      " =\n",
      " fibonacci\n",
      "(\n",
      "10\n",
      ")\n",
      "\n",
      "print\n",
      "(first\n",
      "_\n",
      "10\n",
      "_f\n",
      "ib\n",
      ")\n",
      "\n",
      "``\n",
      "`\n",
      "\n",
      "\n",
      "When\n",
      " you\n",
      " run\n",
      " this\n",
      " code\n",
      ",\n",
      " it\n",
      " will\n",
      " output\n",
      ":\n",
      "\n",
      "\n",
      "``\n",
      "`\n",
      "\n",
      "[\n",
      "0\n",
      ",\n",
      " \n",
      "1\n",
      ",\n",
      " \n",
      "1\n",
      ",\n",
      " \n",
      "2\n",
      ",\n",
      " \n",
      "3\n",
      ",\n",
      " \n",
      "5\n",
      ",\n",
      " \n",
      "8\n",
      ",\n",
      " \n",
      "13\n",
      ",\n",
      " \n",
      "21\n",
      ",\n",
      " \n",
      "34\n",
      "]\n",
      "\n",
      "``\n",
      "`\n",
      "\n",
      "\n",
      "Feel\n",
      " free\n",
      " to\n",
      " run\n",
      " it\n",
      " in\n",
      " your\n",
      " Python\n",
      " environment\n",
      "!\n"
     ]
    }
   ],
   "execution_count": 37
  },
  {
   "metadata": {
    "ExecuteTime": {
     "end_time": "2025-09-14T14:31:22.987027Z",
     "start_time": "2025-09-14T14:31:22.984420Z"
    }
   },
   "cell_type": "code",
   "source": "print(reply)",
   "id": "9bb87af969e6b238",
   "outputs": [
    {
     "name": "stdout",
     "output_type": "stream",
     "text": [
      "Certainly! Here’s a simple Python code snippet to print the first 10 Fibonacci numbers:\n",
      "\n",
      "```python\n",
      "def fibonacci(n):\n",
      "    fib_sequence = []\n",
      "    a, b = 0, 1\n",
      "    while len(fib_sequence) < n:\n",
      "        fib_sequence.append(a)\n",
      "        a, b = b, a + b\n",
      "    return fib_sequence\n",
      "\n",
      "# Print the first 10 Fibonacci numbers\n",
      "first_10_fib = fibonacci(10)\n",
      "print(first_10_fib)\n",
      "```\n",
      "\n",
      "When you run this code, it will output:\n",
      "\n",
      "```\n",
      "[0, 1, 1, 2, 3, 5, 8, 13, 21, 34]\n",
      "```\n",
      "\n",
      "Feel free to run it in your Python environment!\n"
     ]
    }
   ],
   "execution_count": 39
  },
  {
   "metadata": {},
   "cell_type": "markdown",
   "source": "# Reply as markdown",
   "id": "ce95063778da2ef3"
  },
  {
   "metadata": {
    "ExecuteTime": {
     "end_time": "2025-09-14T14:33:31.127122Z",
     "start_time": "2025-09-14T14:33:31.123495Z"
    }
   },
   "cell_type": "code",
   "source": [
    "from IPython.core.display import Markdown\n",
    "display(Markdown(reply))"
   ],
   "id": "4b467f1bd8f3b5a1",
   "outputs": [
    {
     "data": {
      "text/plain": [
       "<IPython.core.display.Markdown object>"
      ],
      "text/markdown": "Certainly! Here’s a simple Python code snippet to print the first 10 Fibonacci numbers:\n\n```python\ndef fibonacci(n):\n    fib_sequence = []\n    a, b = 0, 1\n    while len(fib_sequence) < n:\n        fib_sequence.append(a)\n        a, b = b, a + b\n    return fib_sequence\n\n# Print the first 10 Fibonacci numbers\nfirst_10_fib = fibonacci(10)\nprint(first_10_fib)\n```\n\nWhen you run this code, it will output:\n\n```\n[0, 1, 1, 2, 3, 5, 8, 13, 21, 34]\n```\n\nFeel free to run it in your Python environment!"
     },
     "metadata": {},
     "output_type": "display_data",
     "jetTransient": {
      "display_id": null
     }
    }
   ],
   "execution_count": 42
  },
  {
   "metadata": {},
   "cell_type": "code",
   "outputs": [],
   "execution_count": null,
   "source": "",
   "id": "d79facebbe8a71ee"
  }
 ],
 "metadata": {
  "kernelspec": {
   "display_name": "Python 3",
   "language": "python",
   "name": "python3"
  },
  "language_info": {
   "codemirror_mode": {
    "name": "ipython",
    "version": 2
   },
   "file_extension": ".py",
   "mimetype": "text/x-python",
   "name": "python",
   "nbconvert_exporter": "python",
   "pygments_lexer": "ipython2",
   "version": "2.7.6"
  }
 },
 "nbformat": 4,
 "nbformat_minor": 5
}
