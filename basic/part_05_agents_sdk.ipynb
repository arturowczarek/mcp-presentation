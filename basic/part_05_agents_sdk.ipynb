{
 "cells": [
  {
   "cell_type": "code",
   "id": "initial_id",
   "metadata": {
    "collapsed": true,
    "ExecuteTime": {
     "end_time": "2025-09-14T17:20:35.461419Z",
     "start_time": "2025-09-14T17:20:34.428175Z"
    }
   },
   "source": [
    "from agents import Agent, Runner, trace, function_tool, set_tracing_export_api_key\n",
    "from basic.api_key import ensure_api_key\n",
    "ensure_api_key()\n"
   ],
   "outputs": [
    {
     "name": "stdout",
     "output_type": "stream",
     "text": [
      "OpenAI API key has been configured.\n"
     ]
    }
   ],
   "execution_count": 1
  },
  {
   "metadata": {
    "ExecuteTime": {
     "end_time": "2025-09-14T17:20:37.055041Z",
     "start_time": "2025-09-14T17:20:35.662482Z"
    }
   },
   "cell_type": "code",
   "source": [
    "first_agent = Agent(\n",
    "    name=\"Geography Agent\",\n",
    "    instructions=\"You are a helpful assistant that is good with geography.\",\n",
    "    model=\"gpt-4o-mini\")\n",
    "with trace(\"Geography question\"):\n",
    "    result = await Runner.run(first_agent, \"What is the capital of Poland?\")\n",
    "    print(result.final_output)"
   ],
   "id": "c2cb440ae84aad0f",
   "outputs": [
    {
     "name": "stdout",
     "output_type": "stream",
     "text": [
      "The capital of Poland is Warsaw.\n"
     ]
    }
   ],
   "execution_count": 2
  },
  {
   "metadata": {},
   "cell_type": "markdown",
   "source": [
    "## Traces\n",
    "Go to https://platform.openai.com/traces to see the trace of this run"
   ],
   "id": "25b4b3ad89f2b867"
  },
  {
   "metadata": {},
   "cell_type": "markdown",
   "source": "# Function calling",
   "id": "a0e3fb2b39ddeaee"
  },
  {
   "metadata": {
    "ExecuteTime": {
     "end_time": "2025-09-14T17:20:42.552661Z",
     "start_time": "2025-09-14T17:20:42.289845Z"
    }
   },
   "cell_type": "code",
   "source": [
    "from basic.utils import get_current_price as get_current_price_implementation\n",
    "from pydantic import Field\n",
    "\n",
    "\n",
    "@function_tool\n",
    "def get_current_price(\n",
    "        currency_pair: str = Field(description=\"The trading pair in format BASE/QUOTE, e.g. BTC/USD, ETH/USD\")) -> dict:\n",
    "    \"\"\"Get the current price of a currency pair, e.g., BTC/USD\"\"\"\n",
    "    return get_current_price_implementation(currency_pair)\n",
    "\n",
    "\n",
    "get_current_price"
   ],
   "id": "236719baa7f50d45",
   "outputs": [
    {
     "data": {
      "text/plain": [
       "FunctionTool(name='get_current_price', description='Get the current price of a currency pair, e.g., BTC/USD', params_json_schema={'properties': {'currency_pair': {'description': 'The trading pair in format BASE/QUOTE, e.g. BTC/USD, ETH/USD', 'title': 'Currency Pair', 'type': 'string'}}, 'required': ['currency_pair'], 'title': 'get_current_price_args', 'type': 'object', 'additionalProperties': False}, on_invoke_tool=<function function_tool.<locals>._create_function_tool.<locals>._on_invoke_tool at 0x12b32c400>, strict_json_schema=True, is_enabled=True)"
      ]
     },
     "execution_count": 3,
     "metadata": {},
     "output_type": "execute_result"
    }
   ],
   "execution_count": 3
  },
  {
   "metadata": {
    "ExecuteTime": {
     "end_time": "2025-09-14T17:20:50.173288Z",
     "start_time": "2025-09-14T17:20:46.221674Z"
    }
   },
   "cell_type": "code",
   "source": [
    "finance_agent = Agent(\n",
    "    name=\"Finance Agent\",\n",
    "    instructions=\"You are a helpful assistant that is good with finance.\",\n",
    "    model=\"gpt-4o-mini\",\n",
    "    tools=[get_current_price])\n",
    "with trace(\"Currency price question\"):\n",
    "    result = await Runner.run(finance_agent, \"What is the current price of Bitcoin in USD?\")\n",
    "    print(result.final_output)"
   ],
   "id": "f0627c4eec006d6b",
   "outputs": [
    {
     "name": "stdout",
     "output_type": "stream",
     "text": [
      "Fetching current price for BTC/USD...\n",
      "The current price of Bitcoin (BTC) is $14,753.94 USD.\n"
     ]
    }
   ],
   "execution_count": 4
  }
 ],
 "metadata": {
  "kernelspec": {
   "display_name": "Python 3",
   "language": "python",
   "name": "python3"
  },
  "language_info": {
   "codemirror_mode": {
    "name": "ipython",
    "version": 2
   },
   "file_extension": ".py",
   "mimetype": "text/x-python",
   "name": "python",
   "nbconvert_exporter": "python",
   "pygments_lexer": "ipython2",
   "version": "2.7.6"
  }
 },
 "nbformat": 4,
 "nbformat_minor": 5
}
