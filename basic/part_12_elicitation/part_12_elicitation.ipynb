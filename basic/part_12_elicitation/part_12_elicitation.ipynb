{
 "cells": [
  {
   "cell_type": "code",
   "id": "initial_id",
   "metadata": {
    "collapsed": true,
    "ExecuteTime": {
     "end_time": "2025-10-15T10:57:20.490286Z",
     "start_time": "2025-10-15T10:56:13.052017Z"
    }
   },
   "source": "!npx --yes @modelcontextprotocol/inspector $(which uv) run $(pwd)/server_with_elicitation.py",
   "outputs": [
    {
     "name": "stdout",
     "output_type": "stream",
     "text": [
      "\u001B[1G\u001B[0K⠙\u001B[1G\u001B[0K⠹\u001B[1G\u001B[0K⠸\u001B[1G\u001B[0K⠼\u001B[1G\u001B[0K⠴\u001B[1G\u001B[0K⠦\u001B[1G\u001B[0KStarting MCP inspector...\r\n",
      "⚙️ Proxy server listening on localhost:6277\r\n",
      "🔑 Session token: e5b1a2bcd2e4873e4e795e29814c253267e45eff07f455f0e1b3ac8919ba7c11\r\n",
      "   Use this token to authenticate requests or set DANGEROUSLY_OMIT_AUTH=true to disable auth\r\n",
      "\r\n",
      "🚀 MCP Inspector is up and running at:\r\n",
      "   http://localhost:6274/?MCP_PROXY_AUTH_TOKEN=e5b1a2bcd2e4873e4e795e29814c253267e45eff07f455f0e1b3ac8919ba7c11\r\n",
      "\r\n",
      "🌐 Opening browser...\r\n",
      "New STDIO connection request\r\n",
      "Query parameters: {\"command\":\"/Users/aowczarek/.local/bin/uv\",\"args\":\"run /Users/aowczarek/Documents/gid/mcp-presentation/basic/part_12_elicitation/server_with_elicitation.py\",\"env\":\"{\\\"HOME\\\":\\\"/Users/aowczarek\\\",\\\"LOGNAME\\\":\\\"aowczarek\\\",\\\"PATH\\\":\\\"/Users/aowczarek/.npm/_npx/5a9d879542beca3a/node_modules/.bin:/Users/aowczarek/Documents/gid/mcp-presentation/basic/part_12_elicitation/node_modules/.bin:/Users/aowczarek/Documents/gid/mcp-presentation/basic/node_modules/.bin:/Users/aowczarek/Documents/gid/mcp-presentation/node_modules/.bin:/Users/aowczarek/Documents/gid/node_modules/.bin:/Users/aowczarek/Documents/node_modules/.bin:/Users/aowczarek/node_modules/.bin:/Users/node_modules/.bin:/node_modules/.bin:/Users/aowczarek/.nvm/versions/node/v22.15.1/lib/node_modules/npm/node_modules/@npmcli/run-script/lib/node-gyp-bin:/Users/aowczarek/.local/bin:/Users/aowczarek/.nvm/versions/node/v22.15.1/bin:/Users/aowczarek/.sdkman/candidates/scala/current/bin:/Users/aowczarek/.sdkman/candidates/sbt/current/bin:/Users/aowczarek/.sdkman/candidates/java/current/bin:/opt/homebrew/bin:/opt/homebrew/sbin:/Users/aowczarek/.cargo/bin:/Users/aowczarek/.nix-profile/bin:/run/current-system/sw/bin:/nix/var/nix/profiles/default/bin:/usr/local/bin:/usr/bin:/bin:/usr/sbin:/sbin:/Users/aowczarek/Library/Application Support/JetBrains/Toolbox/scripts:/Users/aowczarek/.lmstudio/bin\\\",\\\"SHELL\\\":\\\"/bin/zsh\\\",\\\"TERM\\\":\\\"xterm-color\\\",\\\"USER\\\":\\\"aowczarek\\\"}\",\"transportType\":\"stdio\"}\r\n",
      "STDIO transport: command=/Users/aowczarek/.local/bin/uv, args=run,/Users/aowczarek/Documents/gid/mcp-presentation/basic/part_12_elicitation/server_with_elicitation.py\r\n",
      "Created client transport\r\n",
      "Created server transport\r\n",
      "Received POST message for sessionId af7cabda-1034-45b3-91c0-8a367d51c8d7\r\n",
      "Received POST message for sessionId af7cabda-1034-45b3-91c0-8a367d51c8d7\r\n",
      "Received POST message for sessionId af7cabda-1034-45b3-91c0-8a367d51c8d7\r\n",
      "Received POST message for sessionId af7cabda-1034-45b3-91c0-8a367d51c8d7\r\n",
      "Received POST message for sessionId af7cabda-1034-45b3-91c0-8a367d51c8d7\r\n",
      "^C\r\n",
      "\u001B[1G\u001B[0K⠙\u001B[1G\u001B[0K"
     ]
    }
   ],
   "execution_count": 1
  },
  {
   "metadata": {
    "ExecuteTime": {
     "end_time": "2025-10-15T14:07:06.507075Z",
     "start_time": "2025-10-15T14:07:05.847952Z"
    }
   },
   "cell_type": "code",
   "source": [
    "from basic.utils import print_mcp_config\n",
    "print_mcp_config(\"server_with_elicitation.py\", \"finance\")"
   ],
   "id": "cd2cb25dfa6016d8",
   "outputs": [
    {
     "name": "stdout",
     "output_type": "stream",
     "text": [
      "{\n",
      "    \"mcpServers\": {\n",
      "        \"finance\": {\n",
      "            \"command\": \"/Users/aowczarek/.local/bin/uv\",\n",
      "            \"args\": [\n",
      "                \"--directory\",\n",
      "                \"/Users/aowczarek/Documents/gid/mcp-presentation/basic/part_12_elicitation\",\n",
      "                \"run\",\n",
      "                \"server_with_elicitation.py\"\n",
      "            ]\n",
      "        }\n",
      "    }\n",
      "}\n"
     ]
    }
   ],
   "execution_count": 1
  }
 ],
 "metadata": {
  "kernelspec": {
   "display_name": "Python 3",
   "language": "python",
   "name": "python3"
  },
  "language_info": {
   "codemirror_mode": {
    "name": "ipython",
    "version": 2
   },
   "file_extension": ".py",
   "mimetype": "text/x-python",
   "name": "python",
   "nbconvert_exporter": "python",
   "pygments_lexer": "ipython2",
   "version": "2.7.6"
  }
 },
 "nbformat": 4,
 "nbformat_minor": 5
}
