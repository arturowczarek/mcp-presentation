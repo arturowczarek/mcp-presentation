{
 "cells": [
  {
   "cell_type": "code",
   "id": "initial_id",
   "metadata": {
    "collapsed": true,
    "ExecuteTime": {
     "end_time": "2025-09-14T14:51:09.873574Z",
     "start_time": "2025-09-14T14:51:09.387863Z"
    }
   },
   "source": [
    "from basic.api_key import ensure_api_key\n",
    "ensure_api_key()\n",
    "from openai import OpenAI\n",
    "client = OpenAI()"
   ],
   "outputs": [
    {
     "name": "stdout",
     "output_type": "stream",
     "text": [
      "OpenAI API key has been configured.\n"
     ]
    }
   ],
   "execution_count": 2
  },
  {
   "metadata": {
    "ExecuteTime": {
     "end_time": "2025-09-14T14:52:04.158784Z",
     "start_time": "2025-09-14T14:52:01.414180Z"
    }
   },
   "cell_type": "code",
   "source": [
    "response = client.responses.create(\n",
    "    model=\"gpt-4o-mini\",\n",
    "    input=\"Write a Python code that is printing the first 10 Fibonacci numbers. Reply to me in pure Python. DO NOT USE MARKDOWN FORMATTING.\",\n",
    ")\n",
    "print(response.output_text)"
   ],
   "id": "492835ccb7f3f130",
   "outputs": [
    {
     "name": "stderr",
     "output_type": "stream",
     "text": [
      "[2025-09-14 16:52:04 - httpx:1025 - INFO] HTTP Request: POST https://api.openai.com/v1/responses \"HTTP/1.1 200 OK\"\n"
     ]
    },
    {
     "name": "stdout",
     "output_type": "stream",
     "text": [
      "def fibonacci(n):\n",
      "    fib_sequence = []\n",
      "    a, b = 0, 1\n",
      "    for _ in range(n):\n",
      "        fib_sequence.append(a)\n",
      "        a, b = b, a + b\n",
      "    return fib_sequence\n",
      "\n",
      "first_10_fibonacci = fibonacci(10)\n",
      "for number in first_10_fibonacci:\n",
      "    print(number)\n"
     ]
    }
   ],
   "execution_count": 3
  },
  {
   "metadata": {},
   "cell_type": "markdown",
   "source": "# Is it going to work?",
   "id": "a89ef7cf6a6da0dc"
  },
  {
   "metadata": {
    "ExecuteTime": {
     "end_time": "2025-09-14T14:53:21.065976Z",
     "start_time": "2025-09-14T14:53:21.062706Z"
    }
   },
   "cell_type": "code",
   "source": "exec(response.output_text)",
   "id": "4b61668f80e45de6",
   "outputs": [
    {
     "name": "stdout",
     "output_type": "stream",
     "text": [
      "0\n",
      "1\n",
      "1\n",
      "2\n",
      "3\n",
      "5\n",
      "8\n",
      "13\n",
      "21\n",
      "34\n"
     ]
    }
   ],
   "execution_count": 5
  },
  {
   "metadata": {},
   "cell_type": "markdown",
   "source": "# Other formats",
   "id": "4f5f5905b8a2e91"
  },
  {
   "metadata": {},
   "cell_type": "markdown",
   "source": "## CSV",
   "id": "f8f9159e3afaf760"
  },
  {
   "metadata": {
    "ExecuteTime": {
     "end_time": "2025-09-14T14:56:15.932834Z",
     "start_time": "2025-09-14T14:56:11.800611Z"
    }
   },
   "cell_type": "code",
   "source": [
    "response = client.responses.create(\n",
    "    model=\"gpt-4o-mini\",\n",
    "    input=\"Write for me a content of a CSV file with 20 rows and 3 columns: name, age, city. Use only Polish names and cities. Include headers. DO NOT USE MARKDOWN FORMATTING. Just the CSV content.\",\n",
    ")\n",
    "print(response.output_text)"
   ],
   "id": "d2f964a2d4a766ce",
   "outputs": [
    {
     "name": "stderr",
     "output_type": "stream",
     "text": [
      "[2025-09-14 16:56:15 - httpx:1025 - INFO] HTTP Request: POST https://api.openai.com/v1/responses \"HTTP/1.1 200 OK\"\n"
     ]
    },
    {
     "name": "stdout",
     "output_type": "stream",
     "text": [
      "name,age,city  \n",
      "Jan,32,Warszawa  \n",
      "Kasia,28,Kraków  \n",
      "Marek,45,Łódź  \n",
      "Zofia,37,Gdańsk  \n",
      "Andrzej,29,Poznań  \n",
      "Agnieszka,41,Wrocław  \n",
      "Piotr,22,Szczecin  \n",
      "Monika,34,Lublin  \n",
      "Tomasz,50,Rzeszów  \n",
      "Karolina,27,Zielona Góra  \n",
      "Jakub,30,Bydgoszcz  \n",
      "Natalia,33,Olsztyn  \n",
      "Adam,26,Katowice  \n",
      "Ewa,39,Opole  \n",
      "Krzysztof,53,Gdynia  \n",
      "Justyna,31,Toruń  \n",
      "Robert,48,Radom  \n",
      "Aleksandra,24,Sosnowiec  \n",
      "Michał,36,Chorzów  \n",
      "Magdalena,40,Elbląg  \n"
     ]
    }
   ],
   "execution_count": 8
  },
  {
   "metadata": {
    "ExecuteTime": {
     "end_time": "2025-09-14T14:57:38.432649Z",
     "start_time": "2025-09-14T14:57:38.409633Z"
    }
   },
   "cell_type": "code",
   "source": [
    "from io import StringIO\n",
    "import pandas as pd\n",
    "pd.read_csv(StringIO(response.output_text))"
   ],
   "id": "e9ef4f06bb1c3d01",
   "outputs": [
    {
     "data": {
      "text/plain": [
       "          name  age          city  \n",
       "0          Jan   32      Warszawa  \n",
       "1        Kasia   28        Kraków  \n",
       "2        Marek   45          Łódź  \n",
       "3        Zofia   37        Gdańsk  \n",
       "4      Andrzej   29        Poznań  \n",
       "5    Agnieszka   41       Wrocław  \n",
       "6        Piotr   22      Szczecin  \n",
       "7       Monika   34        Lublin  \n",
       "8       Tomasz   50       Rzeszów  \n",
       "9     Karolina   27  Zielona Góra  \n",
       "10       Jakub   30     Bydgoszcz  \n",
       "11     Natalia   33       Olsztyn  \n",
       "12        Adam   26      Katowice  \n",
       "13         Ewa   39         Opole  \n",
       "14   Krzysztof   53        Gdynia  \n",
       "15     Justyna   31         Toruń  \n",
       "16      Robert   48         Radom  \n",
       "17  Aleksandra   24     Sosnowiec  \n",
       "18      Michał   36       Chorzów  \n",
       "19   Magdalena   40        Elbląg  "
      ],
      "text/html": [
       "<div>\n",
       "<style scoped>\n",
       "    .dataframe tbody tr th:only-of-type {\n",
       "        vertical-align: middle;\n",
       "    }\n",
       "\n",
       "    .dataframe tbody tr th {\n",
       "        vertical-align: top;\n",
       "    }\n",
       "\n",
       "    .dataframe thead th {\n",
       "        text-align: right;\n",
       "    }\n",
       "</style>\n",
       "<table border=\"1\" class=\"dataframe\">\n",
       "  <thead>\n",
       "    <tr style=\"text-align: right;\">\n",
       "      <th></th>\n",
       "      <th>name</th>\n",
       "      <th>age</th>\n",
       "      <th>city</th>\n",
       "    </tr>\n",
       "  </thead>\n",
       "  <tbody>\n",
       "    <tr>\n",
       "      <th>0</th>\n",
       "      <td>Jan</td>\n",
       "      <td>32</td>\n",
       "      <td>Warszawa</td>\n",
       "    </tr>\n",
       "    <tr>\n",
       "      <th>1</th>\n",
       "      <td>Kasia</td>\n",
       "      <td>28</td>\n",
       "      <td>Kraków</td>\n",
       "    </tr>\n",
       "    <tr>\n",
       "      <th>2</th>\n",
       "      <td>Marek</td>\n",
       "      <td>45</td>\n",
       "      <td>Łódź</td>\n",
       "    </tr>\n",
       "    <tr>\n",
       "      <th>3</th>\n",
       "      <td>Zofia</td>\n",
       "      <td>37</td>\n",
       "      <td>Gdańsk</td>\n",
       "    </tr>\n",
       "    <tr>\n",
       "      <th>4</th>\n",
       "      <td>Andrzej</td>\n",
       "      <td>29</td>\n",
       "      <td>Poznań</td>\n",
       "    </tr>\n",
       "    <tr>\n",
       "      <th>5</th>\n",
       "      <td>Agnieszka</td>\n",
       "      <td>41</td>\n",
       "      <td>Wrocław</td>\n",
       "    </tr>\n",
       "    <tr>\n",
       "      <th>6</th>\n",
       "      <td>Piotr</td>\n",
       "      <td>22</td>\n",
       "      <td>Szczecin</td>\n",
       "    </tr>\n",
       "    <tr>\n",
       "      <th>7</th>\n",
       "      <td>Monika</td>\n",
       "      <td>34</td>\n",
       "      <td>Lublin</td>\n",
       "    </tr>\n",
       "    <tr>\n",
       "      <th>8</th>\n",
       "      <td>Tomasz</td>\n",
       "      <td>50</td>\n",
       "      <td>Rzeszów</td>\n",
       "    </tr>\n",
       "    <tr>\n",
       "      <th>9</th>\n",
       "      <td>Karolina</td>\n",
       "      <td>27</td>\n",
       "      <td>Zielona Góra</td>\n",
       "    </tr>\n",
       "    <tr>\n",
       "      <th>10</th>\n",
       "      <td>Jakub</td>\n",
       "      <td>30</td>\n",
       "      <td>Bydgoszcz</td>\n",
       "    </tr>\n",
       "    <tr>\n",
       "      <th>11</th>\n",
       "      <td>Natalia</td>\n",
       "      <td>33</td>\n",
       "      <td>Olsztyn</td>\n",
       "    </tr>\n",
       "    <tr>\n",
       "      <th>12</th>\n",
       "      <td>Adam</td>\n",
       "      <td>26</td>\n",
       "      <td>Katowice</td>\n",
       "    </tr>\n",
       "    <tr>\n",
       "      <th>13</th>\n",
       "      <td>Ewa</td>\n",
       "      <td>39</td>\n",
       "      <td>Opole</td>\n",
       "    </tr>\n",
       "    <tr>\n",
       "      <th>14</th>\n",
       "      <td>Krzysztof</td>\n",
       "      <td>53</td>\n",
       "      <td>Gdynia</td>\n",
       "    </tr>\n",
       "    <tr>\n",
       "      <th>15</th>\n",
       "      <td>Justyna</td>\n",
       "      <td>31</td>\n",
       "      <td>Toruń</td>\n",
       "    </tr>\n",
       "    <tr>\n",
       "      <th>16</th>\n",
       "      <td>Robert</td>\n",
       "      <td>48</td>\n",
       "      <td>Radom</td>\n",
       "    </tr>\n",
       "    <tr>\n",
       "      <th>17</th>\n",
       "      <td>Aleksandra</td>\n",
       "      <td>24</td>\n",
       "      <td>Sosnowiec</td>\n",
       "    </tr>\n",
       "    <tr>\n",
       "      <th>18</th>\n",
       "      <td>Michał</td>\n",
       "      <td>36</td>\n",
       "      <td>Chorzów</td>\n",
       "    </tr>\n",
       "    <tr>\n",
       "      <th>19</th>\n",
       "      <td>Magdalena</td>\n",
       "      <td>40</td>\n",
       "      <td>Elbląg</td>\n",
       "    </tr>\n",
       "  </tbody>\n",
       "</table>\n",
       "</div>"
      ]
     },
     "execution_count": 12,
     "metadata": {},
     "output_type": "execute_result"
    }
   ],
   "execution_count": 12
  },
  {
   "metadata": {},
   "cell_type": "markdown",
   "source": "## JSON",
   "id": "2a2b001d792f2dfa"
  },
  {
   "metadata": {
    "ExecuteTime": {
     "end_time": "2025-09-14T15:02:04.048063Z",
     "start_time": "2025-09-14T15:02:02.568980Z"
    }
   },
   "cell_type": "code",
   "source": [
    "response = client.responses.create(\n",
    "    model=\"gpt-4o-mini\",\n",
    "    input=\"Generate a fictitious person. Reply to me in JSON format. DO NOT USE MARKDOWN FORMATTING. Just the JSON content. Please include the following fields: first_name (string), last_name (string), age (number), city (string), email (string).\",\n",
    ")\n",
    "print(response.output_text)"
   ],
   "id": "36f50ea1420dd0db",
   "outputs": [
    {
     "name": "stderr",
     "output_type": "stream",
     "text": [
      "[2025-09-14 17:02:04 - httpx:1025 - INFO] HTTP Request: POST https://api.openai.com/v1/responses \"HTTP/1.1 200 OK\"\n"
     ]
    },
    {
     "name": "stdout",
     "output_type": "stream",
     "text": [
      "{\n",
      "  \"first_name\": \"Lila\",\n",
      "  \"last_name\": \"Winston\",\n",
      "  \"age\": 29,\n",
      "  \"city\": \"Austin\",\n",
      "  \"email\": \"lila.winston@example.com\"\n",
      "}\n"
     ]
    }
   ],
   "execution_count": 13
  },
  {
   "metadata": {},
   "cell_type": "markdown",
   "source": "### Use Pydantic",
   "id": "1dd19ea774be8652"
  },
  {
   "metadata": {
    "ExecuteTime": {
     "end_time": "2025-09-14T15:15:01.936197Z",
     "start_time": "2025-09-14T15:15:01.932637Z"
    }
   },
   "cell_type": "code",
   "source": [
    "from pydantic import BaseModel, Field\n",
    "import json\n",
    "\n",
    "class Person(BaseModel):\n",
    "    first_name: str = Field(description='First name of the person. It should be a common Polish first name.')\n",
    "    last_name: str = Field(description='Last name of the person. It should be a common Polish last name.')\n",
    "    age: int = Field(description='Age of the person. It should be a number between 0 and 120.')\n",
    "    city: str = Field(description='City where the person lives. It should be a common Polish city.')\n",
    "    email: str = Field(description='Email address of the person. It should be a valid email format in domain wp.pl, onet.pl or o2.pl.')\n",
    "\n",
    "schema = json.dumps(Person.model_json_schema())\n",
    "print(schema)"
   ],
   "id": "85383dd7af554c3e",
   "outputs": [
    {
     "name": "stdout",
     "output_type": "stream",
     "text": [
      "{\"properties\": {\"first_name\": {\"description\": \"First name of the person. It should be a common Polish first name.\", \"title\": \"First Name\", \"type\": \"string\"}, \"last_name\": {\"description\": \"Last name of the person. It should be a common Polish last name.\", \"title\": \"Last Name\", \"type\": \"string\"}, \"age\": {\"description\": \"Age of the person. It should be a number between 0 and 120.\", \"title\": \"Age\", \"type\": \"integer\"}, \"city\": {\"description\": \"City where the person lives. It should be a common Polish city.\", \"title\": \"City\", \"type\": \"string\"}, \"email\": {\"description\": \"Email address of the person. It should be a valid email format in domain wp.pl, onet.pl or o2.pl.\", \"title\": \"Email\", \"type\": \"string\"}}, \"required\": [\"first_name\", \"last_name\", \"age\", \"city\", \"email\"], \"title\": \"Person\", \"type\": \"object\"}\n"
     ]
    }
   ],
   "execution_count": 21
  },
  {
   "metadata": {
    "ExecuteTime": {
     "end_time": "2025-09-14T15:15:14.113874Z",
     "start_time": "2025-09-14T15:15:12.140439Z"
    }
   },
   "cell_type": "code",
   "source": [
    "response = client.responses.create(\n",
    "    model=\"gpt-4o-mini\",\n",
    "    input=\"Generate a fictitious person. Reply to me in JSON format. DO NOT USE MARKDOWN FORMATTING. Just the JSON content. follow this schema: \" + schema,\n",
    ")\n",
    "print(response.output_text)"
   ],
   "id": "c69417bc5cb16059",
   "outputs": [
    {
     "name": "stderr",
     "output_type": "stream",
     "text": [
      "[2025-09-14 17:15:14 - httpx:1025 - INFO] HTTP Request: POST https://api.openai.com/v1/responses \"HTTP/1.1 200 OK\"\n"
     ]
    },
    {
     "name": "stdout",
     "output_type": "stream",
     "text": [
      "{\n",
      "  \"first_name\": \"Katarzyna\",\n",
      "  \"last_name\": \"Nowak\",\n",
      "  \"age\": 28,\n",
      "  \"city\": \"Kraków\",\n",
      "  \"email\": \"katarzyna.nowak@wp.pl\"\n",
      "}\n"
     ]
    }
   ],
   "execution_count": 23
  },
  {
   "metadata": {
    "ExecuteTime": {
     "end_time": "2025-09-14T15:15:43.477715Z",
     "start_time": "2025-09-14T15:15:43.471499Z"
    }
   },
   "cell_type": "code",
   "source": [
    "person = Person.model_validate_json(response.output_text)\n",
    "person"
   ],
   "id": "e574b4c87abee1b3",
   "outputs": [
    {
     "data": {
      "text/plain": [
       "Person(first_name='Katarzyna', last_name='Nowak', age=28, city='Kraków', email='katarzyna.nowak@wp.pl')"
      ]
     },
     "execution_count": 24,
     "metadata": {},
     "output_type": "execute_result"
    }
   ],
   "execution_count": 24
  },
  {
   "metadata": {},
   "cell_type": "markdown",
   "source": "### With OpenAI SDK",
   "id": "530afcb901bbf33a"
  },
  {
   "metadata": {
    "ExecuteTime": {
     "end_time": "2025-09-14T15:21:31.272279Z",
     "start_time": "2025-09-14T15:21:29.903188Z"
    }
   },
   "cell_type": "code",
   "source": [
    "# Here's a small change\n",
    "response = client.responses.parse(\n",
    "    model=\"gpt-4o-mini\",\n",
    "    input=\"Generate a fictitious person.\",\n",
    "    text_format=Person # And we add this\n",
    ")"
   ],
   "id": "88df310e403121c5",
   "outputs": [
    {
     "name": "stderr",
     "output_type": "stream",
     "text": [
      "[2025-09-14 17:21:31 - httpx:1025 - INFO] HTTP Request: POST https://api.openai.com/v1/responses \"HTTP/1.1 200 OK\"\n"
     ]
    }
   ],
   "execution_count": 34
  },
  {
   "metadata": {
    "ExecuteTime": {
     "end_time": "2025-09-14T15:21:31.292523Z",
     "start_time": "2025-09-14T15:21:31.290296Z"
    }
   },
   "cell_type": "code",
   "source": "response.output_text",
   "id": "b1ddb62b13d05dd8",
   "outputs": [
    {
     "data": {
      "text/plain": [
       "'{\"first_name\":\"Marek\",\"last_name\":\"Kowalski\",\"age\":28,\"city\":\"Kraków\",\"email\":\"marek.kowalski@wp.pl\"}'"
      ]
     },
     "execution_count": 35,
     "metadata": {},
     "output_type": "execute_result"
    }
   ],
   "execution_count": 35
  },
  {
   "metadata": {
    "ExecuteTime": {
     "end_time": "2025-09-14T15:21:32.717790Z",
     "start_time": "2025-09-14T15:21:32.713550Z"
    }
   },
   "cell_type": "code",
   "source": [
    "person = Person.model_validate_json(response.output_text)\n",
    "person"
   ],
   "id": "a2f9807733ca97f1",
   "outputs": [
    {
     "data": {
      "text/plain": [
       "Person(first_name='Marek', last_name='Kowalski', age=28, city='Kraków', email='marek.kowalski@wp.pl')"
      ]
     },
     "execution_count": 36,
     "metadata": {},
     "output_type": "execute_result"
    }
   ],
   "execution_count": 36
  },
  {
   "metadata": {},
   "cell_type": "code",
   "outputs": [],
   "execution_count": null,
   "source": "",
   "id": "dff372b8c51de0b6"
  }
 ],
 "metadata": {
  "kernelspec": {
   "display_name": "Python 3",
   "language": "python",
   "name": "python3"
  },
  "language_info": {
   "codemirror_mode": {
    "name": "ipython",
    "version": 2
   },
   "file_extension": ".py",
   "mimetype": "text/x-python",
   "name": "python",
   "nbconvert_exporter": "python",
   "pygments_lexer": "ipython2",
   "version": "2.7.6"
  }
 },
 "nbformat": 4,
 "nbformat_minor": 5
}
