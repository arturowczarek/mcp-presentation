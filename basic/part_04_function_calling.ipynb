{
 "cells": [
  {
   "metadata": {},
   "cell_type": "markdown",
   "source": "# LLMs are pure functions",
   "id": "eae8d0581b1025ae"
  },
  {
   "metadata": {
    "ExecuteTime": {
     "end_time": "2025-09-14T15:56:45.185074Z",
     "start_time": "2025-09-14T15:56:44.803787Z"
    }
   },
   "cell_type": "code",
   "source": [
    "from pydantic import BaseModel, Field\n",
    "import json\n",
    "\n",
    "from basic.api_key import ensure_api_key\n",
    "ensure_api_key()\n",
    "from openai import OpenAI\n",
    "client = OpenAI()"
   ],
   "id": "86eb25d01407f9a3",
   "outputs": [
    {
     "name": "stdout",
     "output_type": "stream",
     "text": [
      "OpenAI API key has been configured.\n"
     ]
    }
   ],
   "execution_count": 1
  },
  {
   "metadata": {
    "ExecuteTime": {
     "end_time": "2025-09-14T15:56:46.460320Z",
     "start_time": "2025-09-14T15:56:45.188681Z"
    }
   },
   "cell_type": "code",
   "source": [
    "response = client.responses.create(\n",
    "    model=\"gpt-4o-mini\",\n",
    "    input=\"What is the current price of Bitcoin in USD?\",\n",
    ")\n",
    "print(response.output_text)"
   ],
   "id": "e337eab599ff0d67",
   "outputs": [
    {
     "name": "stderr",
     "output_type": "stream",
     "text": [
      "[2025-09-14 17:56:46 - httpx:1025 - INFO] HTTP Request: POST https://api.openai.com/v1/responses \"HTTP/1.1 200 OK\"\n"
     ]
    },
    {
     "name": "stdout",
     "output_type": "stream",
     "text": [
      "I can't provide real-time data, including current cryptocurrency prices. You can check the latest price of Bitcoin on financial news websites, cryptocurrency exchanges, or financial apps.\n"
     ]
    }
   ],
   "execution_count": 2
  },
  {
   "metadata": {},
   "cell_type": "markdown",
   "source": "# Calling functions",
   "id": "981af00dd93d66be"
  },
  {
   "metadata": {},
   "cell_type": "markdown",
   "source": "## Mock function",
   "id": "f730e66b26c81def"
  },
  {
   "metadata": {
    "ExecuteTime": {
     "end_time": "2025-09-14T15:56:46.836790Z",
     "start_time": "2025-09-14T15:56:46.531775Z"
    }
   },
   "cell_type": "code",
   "source": [
    "from basic.utils import get_current_price\n",
    "get_current_price(\"EUR/USD\")"
   ],
   "id": "7941b6b373eb32b6",
   "outputs": [
    {
     "name": "stdout",
     "output_type": "stream",
     "text": [
      "Fetching current price for EUR/USD...\n"
     ]
    },
    {
     "data": {
      "text/plain": [
       "{'pair': 'EUR/USD',\n",
       " 'base': 'EUR',\n",
       " 'quote': 'USD',\n",
       " 'price': 3434.33,\n",
       " 'timestamp': '2025-09-14T17:56:46.834664'}"
      ]
     },
     "execution_count": 3,
     "metadata": {},
     "output_type": "execute_result"
    }
   ],
   "execution_count": 3
  },
  {
   "metadata": {
    "ExecuteTime": {
     "end_time": "2025-09-14T15:56:47.391453Z",
     "start_time": "2025-09-14T15:56:47.384521Z"
    }
   },
   "cell_type": "code",
   "source": [
    "class ToolCall(BaseModel):\n",
    "    tool_name: str = Field(description=\"The name of the tool to be called. The available tools are: get_current_price.\")\n",
    "    tool_input: str = Field(description=\"The input to be passed to the tool. For the get_current_price tool, this should be the currency pair, e.g., BTC/USD.\")\n",
    "\n",
    "class Reply(BaseModel):\n",
    "    answer: str | None = Field(description=\"The answer to the question in a concise manner.\")\n",
    "    tool_call: ToolCall | None = Field(description=\"If the answer requires calling a tool, this field will contain the tool call details.\")"
   ],
   "id": "881aae0d59006d06",
   "outputs": [],
   "execution_count": 4
  },
  {
   "metadata": {
    "ExecuteTime": {
     "end_time": "2025-09-14T15:56:49.529731Z",
     "start_time": "2025-09-14T15:56:48.294163Z"
    }
   },
   "cell_type": "code",
   "source": [
    "messages = [\n",
    "    {\"role\": \"system\", \"content\": \"You are a helpful assistant that is good with finance.\"},\n",
    "    {\"role\": \"user\", \"content\": \"What is the current price of Bitcoin in USD?\"},\n",
    "]\n",
    "response = client.chat.completions.parse(\n",
    "    model=\"gpt-4o-mini\",\n",
    "    messages=messages,\n",
    "    response_format=Reply\n",
    ")\n",
    "response_text = response.choices[0].message.content\n",
    "reply = Reply.model_validate_json(response_text)\n",
    "messages.append({\"role\": \"assistant\", \"content\": response_text})\n",
    "reply"
   ],
   "id": "686a59fd4417fb52",
   "outputs": [
    {
     "name": "stderr",
     "output_type": "stream",
     "text": [
      "[2025-09-14 17:56:49 - httpx:1025 - INFO] HTTP Request: POST https://api.openai.com/v1/chat/completions \"HTTP/1.1 200 OK\"\n"
     ]
    },
    {
     "data": {
      "text/plain": [
       "Reply(answer=None, tool_call=ToolCall(tool_name='get_current_price', tool_input='BTC/USD'))"
      ]
     },
     "execution_count": 5,
     "metadata": {},
     "output_type": "execute_result"
    }
   ],
   "execution_count": 5
  },
  {
   "metadata": {
    "ExecuteTime": {
     "end_time": "2025-09-14T15:56:51.978149Z",
     "start_time": "2025-09-14T15:56:50.882534Z"
    }
   },
   "cell_type": "code",
   "source": [
    "if reply.tool_call is not None:\n",
    "    if reply.tool_call.tool_name == \"get_current_price\":\n",
    "        current_price = get_current_price(reply.tool_call.tool_input)\n",
    "        messages.append({\"role\": \"user\", \"content\": json.dumps(current_price)})\n",
    "        response = client.chat.completions.parse(\n",
    "            model=\"gpt-4o-mini\",\n",
    "            messages=messages,\n",
    "            response_format=Reply\n",
    "        )\n",
    "        response_text = response.choices[0].message.content\n",
    "        reply = Reply.model_validate_json(response_text)\n",
    "        messages.append({\"role\": \"assistant\", \"content\": response_text})\n",
    "\n",
    "        print(reply)\n",
    "    else:\n",
    "        print(\"Some other tool has been called.\")\n",
    "else:\n",
    "    print(\"No luck this time. Try again.\")"
   ],
   "id": "e781ac20b99de2ae",
   "outputs": [
    {
     "name": "stdout",
     "output_type": "stream",
     "text": [
      "Fetching current price for BTC/USD...\n"
     ]
    },
    {
     "name": "stderr",
     "output_type": "stream",
     "text": [
      "[2025-09-14 17:56:51 - httpx:1025 - INFO] HTTP Request: POST https://api.openai.com/v1/chat/completions \"HTTP/1.1 200 OK\"\n"
     ]
    },
    {
     "name": "stdout",
     "output_type": "stream",
     "text": [
      "answer='The current price of Bitcoin (BTC) in USD is $37,243.92.' tool_call=None\n"
     ]
    }
   ],
   "execution_count": 6
  },
  {
   "metadata": {},
   "cell_type": "markdown",
   "source": "## OpenAI function calling",
   "id": "52ae998860cb3b1"
  },
  {
   "metadata": {
    "ExecuteTime": {
     "end_time": "2025-09-14T16:28:24.763141Z",
     "start_time": "2025-09-14T16:28:23.015658Z"
    }
   },
   "cell_type": "code",
   "source": [
    "tools = [\n",
    "    {\n",
    "        \"type\": \"function\",\n",
    "        \"function\": {\n",
    "            \"name\": \"get_current_price\",\n",
    "            \"description\": \"Get the current price of a cryptocurrency trading pair\",\n",
    "            \"parameters\": {\n",
    "                \"type\": \"object\",\n",
    "                \"properties\": {\n",
    "                    \"pair\": {\n",
    "                        \"type\": \"string\",\n",
    "                        \"description\": \"The trading pair in format BASE/QUOTE, e.g. BTC/USD, ETH/USD\"\n",
    "                    }\n",
    "                },\n",
    "                \"required\": [\"pair\"],\n",
    "                \"additionalProperties\": False\n",
    "            }\n",
    "        }\n",
    "    }\n",
    "]\n",
    "\n",
    "messages = [\n",
    "    {\"role\": \"system\", \"content\": \"You are a helpful assistant that is good with finance.\"},\n",
    "    {\"role\": \"user\", \"content\": \"What is the current price of Bitcoin in USD?\"},\n",
    "]\n",
    "\n",
    "response = client.chat.completions.create(\n",
    "    model=\"gpt-4.1-mini\",\n",
    "    messages=messages,\n",
    "    tools=tools\n",
    ")\n",
    "response_message = response.choices[0].message\n",
    "messages.append(response_message)\n",
    "\n",
    "if response_message.tool_calls:\n",
    "    tool_call = response_message.tool_calls[0]\n",
    "    function_name = tool_call.function.name\n",
    "    function_args = json.loads(tool_call.function.arguments)\n",
    "    if function_name == \"get_current_price\":\n",
    "        function_response = get_current_price(**function_args)\n",
    "        messages.append({\n",
    "            \"role\": \"tool\",\n",
    "            \"tool_call_id\": tool_call.id,\n",
    "            \"content\": json.dumps(function_response)\n",
    "        })\n",
    "        resp = client.chat.completions.create(\n",
    "            model=\"gpt-4.1-mini\",\n",
    "            messages=messages\n",
    "        )\n",
    "        resp_message = resp.choices[0].message\n",
    "        print(resp_message.content)\n",
    "        messages.append({\"role\": \"assistant\", \"content\": resp_message.content})"
   ],
   "id": "5d2364828a2d7fc3",
   "outputs": [
    {
     "name": "stderr",
     "output_type": "stream",
     "text": [
      "[2025-09-14 18:28:23 - httpx:1025 - INFO] HTTP Request: POST https://api.openai.com/v1/chat/completions \"HTTP/1.1 200 OK\"\n"
     ]
    },
    {
     "name": "stdout",
     "output_type": "stream",
     "text": [
      "Fetching current price for BTC/USD...\n"
     ]
    },
    {
     "name": "stderr",
     "output_type": "stream",
     "text": [
      "[2025-09-14 18:28:24 - httpx:1025 - INFO] HTTP Request: POST https://api.openai.com/v1/chat/completions \"HTTP/1.1 200 OK\"\n"
     ]
    },
    {
     "name": "stdout",
     "output_type": "stream",
     "text": [
      "The current price of Bitcoin (BTC) in USD is approximately $19,478.29.\n"
     ]
    }
   ],
   "execution_count": 22
  }
 ],
 "metadata": {
  "kernelspec": {
   "display_name": "Python 3",
   "language": "python",
   "name": "python3"
  },
  "language_info": {
   "codemirror_mode": {
    "name": "ipython",
    "version": 2
   },
   "file_extension": ".py",
   "mimetype": "text/x-python",
   "name": "python",
   "nbconvert_exporter": "python",
   "pygments_lexer": "ipython2",
   "version": "2.7.6"
  }
 },
 "nbformat": 4,
 "nbformat_minor": 5
}
