{
 "cells": [
  {
   "metadata": {},
   "cell_type": "markdown",
   "source": "# LLMs are pure functions",
   "id": "eae8d0581b1025ae"
  },
  {
   "metadata": {
    "ExecuteTime": {
     "end_time": "2025-10-01T13:03:03.071173Z",
     "start_time": "2025-10-01T13:03:02.083046Z"
    }
   },
   "cell_type": "code",
   "source": [
    "from pydantic import BaseModel, Field\n",
    "import json\n",
    "\n",
    "from basic.api_key import ensure_api_key\n",
    "ensure_api_key()\n",
    "from openai import OpenAI\n",
    "client = OpenAI()"
   ],
   "id": "86eb25d01407f9a3",
   "outputs": [
    {
     "name": "stdout",
     "output_type": "stream",
     "text": [
      "OpenAI API key has been configured.\n"
     ]
    }
   ],
   "execution_count": 2
  },
  {
   "metadata": {
    "ExecuteTime": {
     "end_time": "2025-10-01T10:33:33.918679Z",
     "start_time": "2025-10-01T10:33:31.913405Z"
    }
   },
   "cell_type": "code",
   "source": [
    "response = client.responses.create(\n",
    "    model=\"gpt-4o-mini\",\n",
    "    input=\"What is the current price of Bitcoin in USD?\",\n",
    ")\n",
    "print(response.output_text)"
   ],
   "id": "e337eab599ff0d67",
   "outputs": [
    {
     "name": "stdout",
     "output_type": "stream",
     "text": [
      "I can't provide real-time data, including the current price of Bitcoin. To find the latest price, please check a financial news website, a cryptocurrency exchange, or a financial app.\n"
     ]
    }
   ],
   "execution_count": 2
  },
  {
   "metadata": {},
   "cell_type": "markdown",
   "source": "# Calling functions",
   "id": "981af00dd93d66be"
  },
  {
   "metadata": {},
   "cell_type": "markdown",
   "source": "## Mock function",
   "id": "f730e66b26c81def"
  },
  {
   "metadata": {
    "ExecuteTime": {
     "end_time": "2025-10-01T13:27:41.822547Z",
     "start_time": "2025-10-01T13:27:41.497594Z"
    }
   },
   "cell_type": "code",
   "source": [
    "from basic.utils import get_current_price\n",
    "get_current_price(\"EUR/USD\")"
   ],
   "id": "7941b6b373eb32b6",
   "outputs": [
    {
     "name": "stdout",
     "output_type": "stream",
     "text": [
      "Fetching current price for EUR/USD...\n"
     ]
    },
    {
     "data": {
      "text/plain": [
       "{'pair': 'EUR/USD',\n",
       " 'base': 'EUR',\n",
       " 'quote': 'USD',\n",
       " 'price': 3669.5,\n",
       " 'timestamp': '2025-10-01T15:27:41.821091'}"
      ]
     },
     "execution_count": 11,
     "metadata": {},
     "output_type": "execute_result"
    }
   ],
   "execution_count": 11
  },
  {
   "metadata": {
    "ExecuteTime": {
     "end_time": "2025-10-01T10:39:38.370993Z",
     "start_time": "2025-10-01T10:39:38.367745Z"
    }
   },
   "cell_type": "code",
   "source": [
    "class ToolCall(BaseModel):\n",
    "    tool_name: str = Field(description=\"The name of the tool to be called. The available tools are: get_current_price.\")\n",
    "    tool_input: str = Field(description=\"The input to be passed to the tool. For the get_current_price tool, this should be the currency pair, e.g., BTC/USD.\")\n",
    "\n",
    "class Reply(BaseModel):\n",
    "    answer: str | None = Field(description=\"The answer to the question in a concise manner.\")\n",
    "    tool_call: ToolCall | None = Field(description=\"If the answer requires calling a tool, this field will contain the tool call details.\")"
   ],
   "id": "881aae0d59006d06",
   "outputs": [],
   "execution_count": 4
  },
  {
   "metadata": {
    "ExecuteTime": {
     "end_time": "2025-10-01T10:39:41.782630Z",
     "start_time": "2025-10-01T10:39:40.018917Z"
    }
   },
   "cell_type": "code",
   "source": [
    "messages = [\n",
    "    {\"role\": \"system\", \"content\": \"You are a helpful assistant that is good with finance.\"},\n",
    "    {\"role\": \"user\", \"content\": \"What is the current price of Bitcoin in USD?\"},\n",
    "]\n",
    "response = client.chat.completions.parse(\n",
    "    model=\"gpt-4o-mini\",\n",
    "    messages=messages,\n",
    "    response_format=Reply\n",
    ")\n",
    "response_text = response.choices[0].message.content\n",
    "reply = Reply.model_validate_json(response_text)\n",
    "messages.append({\"role\": \"assistant\", \"content\": response_text})\n",
    "reply"
   ],
   "id": "686a59fd4417fb52",
   "outputs": [
    {
     "data": {
      "text/plain": [
       "Reply(answer=None, tool_call=ToolCall(tool_name='get_current_price', tool_input='BTC/USD'))"
      ]
     },
     "execution_count": 5,
     "metadata": {},
     "output_type": "execute_result"
    }
   ],
   "execution_count": 5
  },
  {
   "metadata": {
    "ExecuteTime": {
     "end_time": "2025-10-01T10:42:05.684182Z",
     "start_time": "2025-10-01T10:42:03.661442Z"
    }
   },
   "cell_type": "code",
   "source": [
    "if reply.tool_call is not None:\n",
    "    if reply.tool_call.tool_name == \"get_current_price\":\n",
    "        current_price = get_current_price(reply.tool_call.tool_input)\n",
    "        messages.append({\"role\": \"user\", \"content\": json.dumps(current_price)})\n",
    "        response = client.chat.completions.parse(\n",
    "            model=\"gpt-4o-mini\",\n",
    "            messages=messages,\n",
    "            response_format=Reply\n",
    "        )\n",
    "        response_text = response.choices[0].message.content\n",
    "        reply = Reply.model_validate_json(response_text)\n",
    "        messages.append({\"role\": \"assistant\", \"content\": response_text})\n",
    "\n",
    "        print(reply)\n",
    "    else:\n",
    "        print(\"Some other tool has been called.\")\n",
    "else:\n",
    "    print(\"No luck this time. Try again.\")"
   ],
   "id": "e781ac20b99de2ae",
   "outputs": [
    {
     "name": "stdout",
     "output_type": "stream",
     "text": [
      "Fetching current price for BTC/USD...\n",
      "answer='The current price of Bitcoin (BTC) is $53,368.70 USD.' tool_call=None\n"
     ]
    }
   ],
   "execution_count": 6
  },
  {
   "metadata": {},
   "cell_type": "markdown",
   "source": "## OpenAI function calling",
   "id": "52ae998860cb3b1"
  },
  {
   "metadata": {
    "ExecuteTime": {
     "end_time": "2025-10-01T10:46:30.447925Z",
     "start_time": "2025-10-01T10:46:27.503719Z"
    }
   },
   "cell_type": "code",
   "source": [
    "tools = [\n",
    "    {\n",
    "        \"type\": \"function\",\n",
    "        \"function\": {\n",
    "            \"name\": \"get_current_price\",\n",
    "            \"description\": \"Get the current price of a cryptocurrency trading pair\",\n",
    "            \"parameters\": {\n",
    "                \"type\": \"object\",\n",
    "                \"properties\": {\n",
    "                    \"pair\": {\n",
    "                        \"type\": \"string\",\n",
    "                        \"description\": \"The trading pair in format BASE/QUOTE, e.g. BTC/USD, ETH/USD\"\n",
    "                    }\n",
    "                },\n",
    "                \"required\": [\"pair\"],\n",
    "                \"additionalProperties\": False\n",
    "            }\n",
    "        }\n",
    "    }\n",
    "]\n",
    "\n",
    "messages = [\n",
    "    {\"role\": \"system\", \"content\": \"You are a helpful assistant that is good with finance.\"},\n",
    "    {\"role\": \"user\", \"content\": \"What is the current price of Bitcoin in USD?\"},\n",
    "]\n",
    "\n",
    "response = client.chat.completions.create(\n",
    "    model=\"gpt-4.1-mini\",\n",
    "    messages=messages,\n",
    "    tools=tools\n",
    ")\n",
    "response_message = response.choices[0].message\n",
    "messages.append(response_message)\n",
    "\n",
    "if response_message.tool_calls:\n",
    "    tool_call = response_message.tool_calls[0]\n",
    "    function_name = tool_call.function.name\n",
    "    function_args = json.loads(tool_call.function.arguments)\n",
    "    if function_name == \"get_current_price\":\n",
    "        function_response = get_current_price(**function_args)\n",
    "        messages.append({\n",
    "            \"role\": \"tool\",\n",
    "            \"tool_call_id\": tool_call.id,\n",
    "            \"content\": json.dumps(function_response)\n",
    "        })\n",
    "        resp = client.chat.completions.create(\n",
    "            model=\"gpt-4.1-mini\",\n",
    "            messages=messages,\n",
    "            tools=tools\n",
    "        )\n",
    "        resp_message = resp.choices[0].message\n",
    "        print(resp_message.content)\n",
    "        messages.append({\"role\": \"assistant\", \"content\": resp_message.content})"
   ],
   "id": "5d2364828a2d7fc3",
   "outputs": [
    {
     "name": "stdout",
     "output_type": "stream",
     "text": [
      "Fetching current price for BTC/USD...\n",
      "The current price of Bitcoin (BTC) in USD is $29,760.84.\n"
     ]
    }
   ],
   "execution_count": 7
  },
  {
   "metadata": {},
   "cell_type": "markdown",
   "source": "# Bonus material - how the function calling depends on the keywords like tools and functions",
   "id": "6790e5dfb6b984fc"
  },
  {
   "metadata": {
    "ExecuteTime": {
     "end_time": "2025-10-01T13:03:12.204064Z",
     "start_time": "2025-10-01T13:03:07.475263Z"
    }
   },
   "cell_type": "code",
   "source": [
    "class AssistanceRequest(BaseModel):\n",
    "    assistance_name: str = Field(description=\"The name of the assistance needed. The available assistance requests are: get_current_price.\")\n",
    "    assistance_input: str = Field(description=\"The input to be passed to the assistance handler. For the get_current_price assistance, this should be the currency pair, e.g., BTC/USD.\")\n",
    "\n",
    "class Reply(BaseModel):\n",
    "    answer: str | None = Field(description=\"The answer to the question in a concise manner.\")\n",
    "    assistance_request: AssistanceRequest | None = Field(description=\"If the answer requires assistance, this field will contain the assistance request details.\")\n",
    "\n",
    "messages = [\n",
    "    {\"role\": \"system\", \"content\": \"You are a helpful assistant that is good with finance.\"},\n",
    "    {\"role\": \"user\", \"content\": \"What is the current price of Bitcoin in USD?\"},\n",
    "]\n",
    "response = client.chat.completions.parse(\n",
    "    model=\"gpt-4o-mini\",\n",
    "    messages=messages,\n",
    "    response_format=Reply\n",
    ")\n",
    "response_text = response.choices[0].message.content\n",
    "reply = Reply.model_validate_json(response_text)\n",
    "messages.append({\"role\": \"assistant\", \"content\": response_text})\n",
    "reply"
   ],
   "id": "590f63dcbe2f8db8",
   "outputs": [
    {
     "data": {
      "text/plain": [
       "Reply(answer=None, assistance_request=AssistanceRequest(assistance_name='get_current_price', assistance_input='BTC/USD'))"
      ]
     },
     "execution_count": 3,
     "metadata": {},
     "output_type": "execute_result"
    }
   ],
   "execution_count": 3
  },
  {
   "metadata": {},
   "cell_type": "markdown",
   "source": [
    "## The variations of the model and Reply object structure\n",
    "\n",
    "You have to download it and pull the model llama2 first:"
   ],
   "id": "2440de7ba271f9c3"
  },
  {
   "metadata": {},
   "cell_type": "markdown",
   "source": "## GPT-4o-mini but with \"assistance\" instead of \"tools\" or \"functions\"",
   "id": "77b3325737f17a5d"
  },
  {
   "metadata": {
    "ExecuteTime": {
     "end_time": "2025-10-01T13:18:36.233945Z",
     "start_time": "2025-10-01T13:18:34.078863Z"
    }
   },
   "cell_type": "code",
   "source": [
    "class AssistanceRequest(BaseModel):\n",
    "    assistance_name: str = Field(description=\"The name of the assistance needed. The available assistance requests are: get_current_price.\")\n",
    "    assistance_input: str = Field(description=\"The input to be passed to the assistance handler. For the get_current_price assistance, this should be the currency pair, e.g., BTC/USD.\")\n",
    "\n",
    "class Reply(BaseModel):\n",
    "    answer: str | None = Field(description=\"The answer to the question in a concise manner.\")\n",
    "    assistance_request: AssistanceRequest | None = Field(description=\"If the answer requires assistance, this field will contain the assistance request details.\")\n",
    "\n",
    "messages = [\n",
    "    {\"role\": \"system\", \"content\": \"You are a helpful assistant that is good with finance.\"},\n",
    "    {\"role\": \"user\", \"content\": \"What is the current price of Bitcoin in USD?\"},\n",
    "]\n",
    "client = OpenAI(\n",
    "    base_url = 'http://localhost:11434/v1',\n",
    "    api_key='ollama'\n",
    ")\n",
    "response = client.chat.completions.parse(\n",
    "    model=\"llama3.2\",\n",
    "    messages=messages,\n",
    "    response_format=Reply\n",
    ")\n",
    "response_text = response.choices[0].message.content\n",
    "reply = Reply.model_validate_json(response_text)\n",
    "messages.append({\"role\": \"assistant\", \"content\": response_text})\n",
    "reply"
   ],
   "id": "51ad33ff9f352f6c",
   "outputs": [
    {
     "data": {
      "text/plain": [
       "Reply(answer=None, assistance_request=AssistanceRequest(assistance_name='current_value_BTC', assistance_input=\"As of my knowledge cutoff in Dec 2023, however please note that cryptocurrency prices can fluctuate rapidly. I'm not aware of the current price. However , I can direct you to a reliable source to find out the up-to-date Bitcoin price in USD.\"))"
      ]
     },
     "execution_count": 8,
     "metadata": {},
     "output_type": "execute_result"
    }
   ],
   "execution_count": 8
  },
  {
   "metadata": {},
   "cell_type": "markdown",
   "source": "## The llama3.2 model with \"tools\"",
   "id": "c79bd1d06ed7aaa3"
  },
  {
   "metadata": {
    "ExecuteTime": {
     "end_time": "2025-10-01T13:29:09.460732Z",
     "start_time": "2025-10-01T13:29:07.618090Z"
    }
   },
   "cell_type": "code",
   "source": [
    "class ToolCall(BaseModel):\n",
    "    tool_name: str = Field(description=\"The name of the tool to be called. The available tools are: get_current_price.\")\n",
    "    tool_input: str = Field(description=\"The input to be passed to the tool. For the get_current_price tool, this should be the currency pair, e.g., BTC/USD.\")\n",
    "\n",
    "class Reply(BaseModel):\n",
    "    answer: str | None = Field(description=\"The answer to the question in a concise manner.\")\n",
    "    tool_call: ToolCall | None = Field(description=\"If the answer requires calling a tool, this field will contain the tool call details.\")\n",
    "\n",
    "messages = [\n",
    "    {\"role\": \"system\", \"content\": \"You are a helpful assistant that is good with finance.\"},\n",
    "    {\"role\": \"user\", \"content\": \"What is the current price of Bitcoin in USD?\"},\n",
    "]\n",
    "client = OpenAI(\n",
    "    base_url = 'http://localhost:11434/v1',\n",
    "    api_key='ollama'\n",
    ")\n",
    "response = client.chat.completions.parse(\n",
    "    model=\"llama3.2\",\n",
    "    messages=messages,\n",
    "    response_format=Reply\n",
    ")\n",
    "response_text = response.choices[0].message.content\n",
    "reply = Reply.model_validate_json(response_text)\n",
    "messages.append({\"role\": \"assistant\", \"content\": response_text})\n",
    "reply"
   ],
   "id": "d159921a6f5b0116",
   "outputs": [
    {
     "data": {
      "text/plain": [
       "Reply(answer=\"I'm not capable of sharing real time information but I can offer some resources for you to get the most up-to-date current information, such as looking at Crypto exchanges like Coinbase.\", tool_call=ToolCall(tool_name='Bitcoin Price', tool_input='Check current price here https://www.coingecko.com/en'))"
      ]
     },
     "execution_count": 15,
     "metadata": {},
     "output_type": "execute_result"
    }
   ],
   "execution_count": 15
  },
  {
   "metadata": {},
   "cell_type": "markdown",
   "source": "## Llama3.2 with \"assistance\"",
   "id": "7d06eafc9e7be18b"
  },
  {
   "metadata": {
    "ExecuteTime": {
     "end_time": "2025-10-01T13:31:56.073470Z",
     "start_time": "2025-10-01T13:31:53.746397Z"
    }
   },
   "cell_type": "code",
   "source": [
    "class AssistanceRequest(BaseModel):\n",
    "    assistance_name: str = Field(description=\"The name of the assistance needed. The available assistance requests are: get_current_price.\")\n",
    "    assistance_input: str = Field(description=\"The input to be passed to the assistance handler. For the get_current_price assistance, this should be the currency pair, e.g., BTC/USD.\")\n",
    "\n",
    "class Reply(BaseModel):\n",
    "    answer: str | None = Field(description=\"The answer to the question in a concise manner.\")\n",
    "    assistance_request: AssistanceRequest | None = Field(description=\"If the answer requires assistance, this field will contain the assistance request details.\")\n",
    "\n",
    "\n",
    "messages = [\n",
    "    {\"role\": \"system\", \"content\": \"You are a helpful assistant that is good with finance.\"},\n",
    "    {\"role\": \"user\", \"content\": \"What is the current price of Bitcoin in USD?\"},\n",
    "]\n",
    "client = OpenAI(\n",
    "    base_url = 'http://localhost:11434/v1',\n",
    "    api_key='ollama'\n",
    ")\n",
    "response = client.chat.completions.parse(\n",
    "    model=\"llama3.2\",\n",
    "    messages=messages,\n",
    "    response_format=Reply\n",
    ")\n",
    "response_text = response.choices[0].message.content\n",
    "reply = Reply.model_validate_json(response_text)\n",
    "messages.append({\"role\": \"assistant\", \"content\": response_text})\n",
    "reply"
   ],
   "id": "62013546c585bbd0",
   "outputs": [
    {
     "data": {
      "text/plain": [
       "Reply(answer=\"Unfortunately, I'm not able to provide real-time data as my knowledge cutoff is in December 2023. However, I can suggest some ways for you to find the current price of Bitcoin in USD. You can check websites such as CoinMarketCap or CryptoCompare for the latest prices.\", assistance_request=AssistanceRequest(assistance_name='Bitcoin Price', assistance_input='Please pass no input'))"
      ]
     },
     "execution_count": 16,
     "metadata": {},
     "output_type": "execute_result"
    }
   ],
   "execution_count": 16
  },
  {
   "metadata": {},
   "cell_type": "markdown",
   "source": "## Llama3.2 with official tools parameter",
   "id": "c26705a6ae51c833"
  },
  {
   "metadata": {
    "ExecuteTime": {
     "end_time": "2025-10-01T13:32:42.306614Z",
     "start_time": "2025-10-01T13:32:40.064839Z"
    }
   },
   "cell_type": "code",
   "source": [
    "tools = [\n",
    "    {\n",
    "        \"type\": \"function\",\n",
    "        \"function\": {\n",
    "            \"name\": \"get_current_price\",\n",
    "            \"description\": \"Get the current price of a cryptocurrency trading pair\",\n",
    "            \"parameters\": {\n",
    "                \"type\": \"object\",\n",
    "                \"properties\": {\n",
    "                    \"pair\": {\n",
    "                        \"type\": \"string\",\n",
    "                        \"description\": \"The trading pair in format BASE/QUOTE, e.g. BTC/USD, ETH/USD\"\n",
    "                    }\n",
    "                },\n",
    "                \"required\": [\"pair\"],\n",
    "                \"additionalProperties\": False\n",
    "            }\n",
    "        }\n",
    "    }\n",
    "]\n",
    "\n",
    "messages = [\n",
    "    {\"role\": \"system\", \"content\": \"You are a helpful assistant that is good with finance.\"},\n",
    "    {\"role\": \"user\", \"content\": \"What is the current price of Bitcoin in USD?\"},\n",
    "]\n",
    "client = OpenAI(\n",
    "    base_url = 'http://localhost:11434/v1',\n",
    "    api_key='ollama'\n",
    ")\n",
    "response = client.chat.completions.create(\n",
    "    model=\"llama3.2\",\n",
    "    messages=messages,\n",
    "    tools=tools\n",
    ")\n",
    "response_message = response.choices[0].message\n",
    "messages.append(response_message)\n",
    "\n",
    "if response_message.tool_calls:\n",
    "    tool_call = response_message.tool_calls[0]\n",
    "    function_name = tool_call.function.name\n",
    "    function_args = json.loads(tool_call.function.arguments)\n",
    "    if function_name == \"get_current_price\":\n",
    "        function_response = get_current_price(**function_args)\n",
    "        messages.append({\n",
    "            \"role\": \"tool\",\n",
    "            \"tool_call_id\": tool_call.id,\n",
    "            \"content\": json.dumps(function_response)\n",
    "        })\n",
    "        resp = client.chat.completions.create(\n",
    "            model=\"llama3.2\",\n",
    "            messages=messages,\n",
    "            tools=tools\n",
    "        )\n",
    "        resp_message = resp.choices[0].message\n",
    "        print(resp_message.content)\n",
    "        messages.append({\"role\": \"assistant\", \"content\": resp_message.content})"
   ],
   "id": "22204816e8ce470e",
   "outputs": [
    {
     "name": "stdout",
     "output_type": "stream",
     "text": [
      "Fetching current price for BTC/USD...\n",
      "The current price of Bitcoin in USD is $46,859.12. Please note that this price may have changed since the timestamp provided and I'm just providing an approximate value based on the output of my tool. You can check a more up-to-date price using other sources such as coin market caps or financial websites.\n"
     ]
    }
   ],
   "execution_count": 17
  },
  {
   "metadata": {},
   "cell_type": "code",
   "outputs": [],
   "execution_count": null,
   "source": "",
   "id": "e0da22bd1c33bf1e"
  }
 ],
 "metadata": {
  "kernelspec": {
   "display_name": "Python 3",
   "language": "python",
   "name": "python3"
  },
  "language_info": {
   "codemirror_mode": {
    "name": "ipython",
    "version": 2
   },
   "file_extension": ".py",
   "mimetype": "text/x-python",
   "name": "python",
   "nbconvert_exporter": "python",
   "pygments_lexer": "ipython2",
   "version": "2.7.6"
  }
 },
 "nbformat": 4,
 "nbformat_minor": 5
}
