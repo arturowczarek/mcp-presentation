{
 "cells": [
  {
   "metadata": {},
   "cell_type": "markdown",
   "source": [
    "# Roots\n",
    "\n",
    "## Reference implementations\n",
    "https://modelcontextprotocol.io/examples"
   ],
   "id": "be2c772784d776a6"
  },
  {
   "metadata": {
    "ExecuteTime": {
     "end_time": "2025-10-15T10:42:23.567892Z",
     "start_time": "2025-10-15T10:40:32.224211Z"
    }
   },
   "cell_type": "code",
   "source": "!npx @modelcontextprotocol/inspector npx -y @modelcontextprotocol/server-filesystem $(pwd)\n",
   "id": "136854a25d886e4",
   "outputs": [
    {
     "name": "stdout",
     "output_type": "stream",
     "text": [
      "\u001B[1G\u001B[0K⠙\u001B[1G\u001B[0K⠹\u001B[1G\u001B[0K⠸\u001B[1G\u001B[0K⠼\u001B[1G\u001B[0KStarting MCP inspector...\r\n",
      "⚙️ Proxy server listening on localhost:6277\r\n",
      "🔑 Session token: 892f590071612ab3186860a7f5234ec6f7fe7be516059f9cd180382d266a5c02\r\n",
      "   Use this token to authenticate requests or set DANGEROUSLY_OMIT_AUTH=true to disable auth\r\n",
      "\r\n",
      "🚀 MCP Inspector is up and running at:\r\n",
      "   http://localhost:6274/?MCP_PROXY_AUTH_TOKEN=892f590071612ab3186860a7f5234ec6f7fe7be516059f9cd180382d266a5c02\r\n",
      "\r\n",
      "🌐 Opening browser...\r\n",
      "New STDIO connection request\r\n",
      "Query parameters: {\"command\":\"npx\",\"args\":\"-y @modelcontextprotocol/server-filesystem /Users/aowczarek/Documents/gid/mcp-presentation/basic/part_09_roots\",\"env\":\"{\\\"HOME\\\":\\\"/Users/aowczarek\\\",\\\"LOGNAME\\\":\\\"aowczarek\\\",\\\"PATH\\\":\\\"/Users/aowczarek/.npm/_npx/5a9d879542beca3a/node_modules/.bin:/Users/aowczarek/Documents/gid/mcp-presentation/basic/part_09_roots/node_modules/.bin:/Users/aowczarek/Documents/gid/mcp-presentation/basic/node_modules/.bin:/Users/aowczarek/Documents/gid/mcp-presentation/node_modules/.bin:/Users/aowczarek/Documents/gid/node_modules/.bin:/Users/aowczarek/Documents/node_modules/.bin:/Users/aowczarek/node_modules/.bin:/Users/node_modules/.bin:/node_modules/.bin:/Users/aowczarek/.nvm/versions/node/v22.15.1/lib/node_modules/npm/node_modules/@npmcli/run-script/lib/node-gyp-bin:/Users/aowczarek/.local/bin:/Users/aowczarek/.nvm/versions/node/v22.15.1/bin:/Users/aowczarek/.sdkman/candidates/scala/current/bin:/Users/aowczarek/.sdkman/candidates/sbt/current/bin:/Users/aowczarek/.sdkman/candidates/java/current/bin:/opt/homebrew/bin:/opt/homebrew/sbin:/Users/aowczarek/.cargo/bin:/Users/aowczarek/.nix-profile/bin:/run/current-system/sw/bin:/nix/var/nix/profiles/default/bin:/usr/local/bin:/usr/bin:/bin:/usr/sbin:/sbin:/Users/aowczarek/Library/Application Support/JetBrains/Toolbox/scripts:/Users/aowczarek/.lmstudio/bin\\\",\\\"SHELL\\\":\\\"/bin/zsh\\\",\\\"TERM\\\":\\\"xterm-color\\\",\\\"USER\\\":\\\"aowczarek\\\"}\",\"transportType\":\"stdio\"}\r\n",
      "STDIO transport: command=/Users/aowczarek/.nvm/versions/node/v22.15.1/bin/npx, args=-y,@modelcontextprotocol/server-filesystem,/Users/aowczarek/Documents/gid/mcp-presentation/basic/part_09_roots\r\n",
      "Created client transport\r\n",
      "Created server transport\r\n",
      "Received POST message for sessionId fa9b04ab-3724-4302-95e0-b8a4a37107d4\r\n",
      "Received POST message for sessionId fa9b04ab-3724-4302-95e0-b8a4a37107d4\r\n",
      "Received POST message for sessionId fa9b04ab-3724-4302-95e0-b8a4a37107d4\r\n",
      "Received POST message for sessionId fa9b04ab-3724-4302-95e0-b8a4a37107d4\r\n",
      "Received POST message for sessionId fa9b04ab-3724-4302-95e0-b8a4a37107d4\r\n",
      "^C\r\n",
      "\u001B[1G\u001B[0K⠙\u001B[1G\u001B[0K"
     ]
    }
   ],
   "execution_count": 1
  },
  {
   "metadata": {
    "ExecuteTime": {
     "end_time": "2025-10-15T10:42:25.403120Z",
     "start_time": "2025-10-15T10:42:25.122682Z"
    }
   },
   "cell_type": "code",
   "source": [
    "from basic.utils import print_mcp_config_npx\n",
    "import os\n",
    "\n",
    "print_mcp_config_npx(\n",
    "    name = \"my_filesystem\",\n",
    "    package=\"@modelcontextprotocol/server-filesystem\",\n",
    "    args = [os.getcwd()]\n",
    ")"
   ],
   "id": "4060c50a464ebf3e",
   "outputs": [
    {
     "name": "stdout",
     "output_type": "stream",
     "text": [
      "{\n",
      "    \"mcpServers\": {\n",
      "        \"my_filesystem\": {\n",
      "            \"command\": \"npx\",\n",
      "            \"args\": [\n",
      "                \"-y\",\n",
      "                \"@modelcontextprotocol/server-filesystem\",\n",
      "                \"/Users/aowczarek/Documents/gid/mcp-presentation/basic/part_09_roots\"\n",
      "            ]\n",
      "        }\n",
      "    }\n",
      "}\n"
     ]
    }
   ],
   "execution_count": 2
  },
  {
   "metadata": {
    "ExecuteTime": {
     "end_time": "2025-10-15T10:45:27.462152Z",
     "start_time": "2025-10-15T10:43:40.774549Z"
    }
   },
   "cell_type": "code",
   "source": "!npx --yes @modelcontextprotocol/inspector npx -y @modelcontextprotocol/server-filesystem",
   "id": "e29e5dd1fd8eff0",
   "outputs": [
    {
     "name": "stdout",
     "output_type": "stream",
     "text": [
      "\u001B[1G\u001B[0K⠙\u001B[1G\u001B[0K⠹\u001B[1G\u001B[0K⠸\u001B[1G\u001B[0K⠼\u001B[1G\u001B[0K⠴\u001B[1G\u001B[0K⠦\u001B[1G\u001B[0KStarting MCP inspector...\r\n",
      "⚙️ Proxy server listening on localhost:6277\r\n",
      "🔑 Session token: 99fbb0e85e18dc407a262baf5897452340a9a3c9c03dc88cf6a967d62d8e22a8\r\n",
      "   Use this token to authenticate requests or set DANGEROUSLY_OMIT_AUTH=true to disable auth\r\n",
      "\r\n",
      "🚀 MCP Inspector is up and running at:\r\n",
      "   http://localhost:6274/?MCP_PROXY_AUTH_TOKEN=99fbb0e85e18dc407a262baf5897452340a9a3c9c03dc88cf6a967d62d8e22a8\r\n",
      "\r\n",
      "🌐 Opening browser...\r\n",
      "New STDIO connection request\r\n",
      "Query parameters: {\"command\":\"npx\",\"args\":\"-y @modelcontextprotocol/server-filesystem\",\"env\":\"{\\\"HOME\\\":\\\"/Users/aowczarek\\\",\\\"LOGNAME\\\":\\\"aowczarek\\\",\\\"PATH\\\":\\\"/Users/aowczarek/.npm/_npx/5a9d879542beca3a/node_modules/.bin:/Users/aowczarek/Documents/gid/mcp-presentation/basic/part_09_roots/node_modules/.bin:/Users/aowczarek/Documents/gid/mcp-presentation/basic/node_modules/.bin:/Users/aowczarek/Documents/gid/mcp-presentation/node_modules/.bin:/Users/aowczarek/Documents/gid/node_modules/.bin:/Users/aowczarek/Documents/node_modules/.bin:/Users/aowczarek/node_modules/.bin:/Users/node_modules/.bin:/node_modules/.bin:/Users/aowczarek/.nvm/versions/node/v22.15.1/lib/node_modules/npm/node_modules/@npmcli/run-script/lib/node-gyp-bin:/Users/aowczarek/.local/bin:/Users/aowczarek/.nvm/versions/node/v22.15.1/bin:/Users/aowczarek/.sdkman/candidates/scala/current/bin:/Users/aowczarek/.sdkman/candidates/sbt/current/bin:/Users/aowczarek/.sdkman/candidates/java/current/bin:/opt/homebrew/bin:/opt/homebrew/sbin:/Users/aowczarek/.cargo/bin:/Users/aowczarek/.nix-profile/bin:/run/current-system/sw/bin:/nix/var/nix/profiles/default/bin:/usr/local/bin:/usr/bin:/bin:/usr/sbin:/sbin:/Users/aowczarek/Library/Application Support/JetBrains/Toolbox/scripts:/Users/aowczarek/.lmstudio/bin\\\",\\\"SHELL\\\":\\\"/bin/zsh\\\",\\\"TERM\\\":\\\"xterm-color\\\",\\\"USER\\\":\\\"aowczarek\\\"}\",\"transportType\":\"stdio\"}\r\n",
      "STDIO transport: command=/Users/aowczarek/.nvm/versions/node/v22.15.1/bin/npx, args=-y,@modelcontextprotocol/server-filesystem\r\n",
      "Created client transport\r\n",
      "Created server transport\r\n",
      "Received POST message for sessionId 80f8d478-0140-4b9a-8efb-eb9068748f06\r\n",
      "Received POST message for sessionId 80f8d478-0140-4b9a-8efb-eb9068748f06\r\n",
      "Received POST message for sessionId 80f8d478-0140-4b9a-8efb-eb9068748f06\r\n",
      "Received POST message for sessionId 80f8d478-0140-4b9a-8efb-eb9068748f06\r\n",
      "Received POST message for sessionId 80f8d478-0140-4b9a-8efb-eb9068748f06\r\n",
      "Received POST message for sessionId 80f8d478-0140-4b9a-8efb-eb9068748f06\r\n",
      "Received POST message for sessionId 80f8d478-0140-4b9a-8efb-eb9068748f06\r\n",
      "Received POST message for sessionId 80f8d478-0140-4b9a-8efb-eb9068748f06\r\n",
      "^C\r\n",
      "\u001B[1G\u001B[0K⠙\u001B[1G\u001B[0K"
     ]
    }
   ],
   "execution_count": 3
  }
 ],
 "metadata": {
  "kernelspec": {
   "display_name": "Python 3",
   "language": "python",
   "name": "python3"
  },
  "language_info": {
   "codemirror_mode": {
    "name": "ipython",
    "version": 2
   },
   "file_extension": ".py",
   "mimetype": "text/x-python",
   "name": "python",
   "nbconvert_exporter": "python",
   "pygments_lexer": "ipython2",
   "version": "2.7.6"
  }
 },
 "nbformat": 4,
 "nbformat_minor": 5
}
