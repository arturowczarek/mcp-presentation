{
 "cells": [
  {
   "cell_type": "code",
   "id": "initial_id",
   "metadata": {
    "collapsed": true,
    "ExecuteTime": {
     "end_time": "2025-09-28T05:41:56.463649Z",
     "start_time": "2025-09-28T05:41:54.463839Z"
    }
   },
   "source": [
    "import subprocess\n",
    "import json\n",
    "\n",
    "from transformers.commands.serving import ToolState\n",
    "\n",
    "# Start the subprocess\n",
    "proc = subprocess.Popen(\n",
    "    ['uv', 'run', 'tools_server.py'],\n",
    "    stdin=subprocess.PIPE,\n",
    "    stdout=subprocess.PIPE,\n",
    "    text=True\n",
    ")\n",
    "\n",
    "# Prepare the command\n",
    "command = {\n",
    "    \"method\": \"tools/call\",\n",
    "    \"params\": {\n",
    "        \"name\": \"get_current_price\",\n",
    "        \"arguments\": {\"pair\": \"BTC/USD\"}\n",
    "    }\n",
    "}\n",
    "\n",
    "command_json = json.dumps(command)\n",
    "print(f\"Sending command: {command_json}\")\n",
    "\n",
    "# Send the command\n",
    "proc.stdin.write(command_json + '\\n')\n",
    "proc.stdin.flush()\n",
    "\n",
    "\n",
    "for line in proc.stdout:\n",
    "    try:\n",
    "        result = json.loads(line)\n",
    "        print(f\"Received reply: {result}\")\n",
    "        break  # Stop after first valid JSON\n",
    "    except json.JSONDecodeError:\n",
    "        print(line) # Print non-JSON lines\n",
    "        continue\n",
    "\n",
    "proc.terminate()"
   ],
   "outputs": [
    {
     "name": "stderr",
     "output_type": "stream",
     "text": [
      "None of PyTorch, TensorFlow >= 2.0, or Flax have been found. Models won't be available and only tokenizers, configuration and file/data utilities can be used.\n",
      "None of PyTorch, TensorFlow >= 2.0, or Flax have been found. Models won't be available and only tokenizers, configuration and file/data utilities can be used.\n"
     ]
    },
    {
     "name": "stdout",
     "output_type": "stream",
     "text": [
      "Sending command: {\"method\": \"tools/call\", \"params\": {\"name\": \"get_current_price\", \"arguments\": {\"pair\": \"BTC/USD\"}}}\n",
      "Fetching current price for BTC/USD...\n",
      "\n",
      "Received reply: {'result': '{\"pair\": \"BTC/USD\", \"base\": \"BTC\", \"quote\": \"USD\", \"price\": 58869.32, \"timestamp\": \"2025-09-28T07:41:56.462009\"}'}\n"
     ]
    }
   ],
   "execution_count": 7
  },
  {
   "metadata": {
    "ExecuteTime": {
     "end_time": "2025-09-28T05:42:01.213396Z",
     "start_time": "2025-09-28T05:42:00.909599Z"
    }
   },
   "cell_type": "code",
   "source": [
    "\n",
    "from basic.part_06_universal_function_call.tools_server_client import ToolsServerClient\n",
    "\n",
    "with ToolsServerClient('tools_server.py') as tools_client:\n",
    "    result = tools_client.call_function('get_current_price', {'pair': 'BTC/USD'})\n",
    "    print(result)"
   ],
   "id": "8a0ffdd8e8266a3c",
   "outputs": [
    {
     "name": "stdout",
     "output_type": "stream",
     "text": [
      "{'result': '{\"pair\": \"BTC/USD\", \"base\": \"BTC\", \"quote\": \"USD\", \"price\": 10588.16, \"timestamp\": \"2025-09-28T07:42:01.211545\"}'}\n"
     ]
    }
   ],
   "execution_count": 8
  },
  {
   "metadata": {},
   "cell_type": "markdown",
   "source": "## How do we know the tools?",
   "id": "512c55184c4bfa60"
  },
  {
   "metadata": {
    "ExecuteTime": {
     "end_time": "2025-09-28T05:42:03.993575Z",
     "start_time": "2025-09-28T05:42:03.702200Z"
    }
   },
   "cell_type": "code",
   "source": [
    "from basic.part_06_universal_function_call.tools_server_client_improved import ToolsServerClientImproved\n",
    "\n",
    "with ToolsServerClientImproved('tools_server_improved.py') as tools_client:\n",
    "    result = tools_client.list_tools()\n",
    "    print(result)"
   ],
   "id": "800bd74b625388f",
   "outputs": [
    {
     "name": "stdout",
     "output_type": "stream",
     "text": [
      "[{'type': 'function', 'function': {'name': 'get_current_price', 'description': 'Get the current price of a cryptocurrency trading pair', 'parameters': {'type': 'object', 'properties': {'pair': {'type': 'string', 'description': 'The trading pair in format BASE/QUOTE, e.g. BTC/USD, ETH/USD'}}, 'required': ['pair'], 'additionalProperties': False}}}]\n"
     ]
    }
   ],
   "execution_count": 9
  },
  {
   "metadata": {
    "ExecuteTime": {
     "end_time": "2025-09-28T05:42:08.507744Z",
     "start_time": "2025-09-28T05:42:05.565924Z"
    }
   },
   "cell_type": "code",
   "source": [
    "from basic.api_key import ensure_api_key\n",
    "ensure_api_key()\n",
    "from openai import OpenAI\n",
    "client = OpenAI()\n",
    "\n",
    "\n",
    "with ToolsServerClientImproved('tools_server_improved.py') as tools_client:\n",
    "    tools = tools_client.list_tools()\n",
    "\n",
    "    messages = [\n",
    "        {\"role\": \"system\", \"content\": \"You are a helpful assistant that is good with finance.\"},\n",
    "        {\"role\": \"user\", \"content\": \"What is the current price of Bitcoin in USD?\"},\n",
    "    ]\n",
    "    response = client.chat.completions.create(\n",
    "        model=\"gpt-4.1-mini\",\n",
    "        messages=messages,\n",
    "        tools=tools\n",
    "    )\n",
    "\n",
    "    response_message = response.choices[0].message\n",
    "    messages.append(response_message)\n",
    "\n",
    "    if response_message.tool_calls:\n",
    "        tool_call = response_message.tool_calls[0]\n",
    "        function_name = tool_call.function.name\n",
    "        function_args = json.loads(tool_call.function.arguments)\n",
    "        function_call_result = tools_client.call_function(function_name, function_args)\n",
    "        messages.append({\n",
    "            \"role\": \"tool\",\n",
    "            \"tool_call_id\": tool_call.id,\n",
    "            \"content\": function_call_result[\"result\"]\n",
    "        })\n",
    "        resp = client.chat.completions.create(\n",
    "            model=\"gpt-4.1-mini\",\n",
    "            messages=messages\n",
    "        )\n",
    "        resp_message = resp.choices[0].message\n",
    "        print(resp_message.content)\n",
    "        messages.append({\"role\": \"assistant\", \"content\": resp_message.content})\n"
   ],
   "id": "f47e72a96045dde3",
   "outputs": [
    {
     "name": "stdout",
     "output_type": "stream",
     "text": [
      "OpenAI API key has been configured.\n",
      "The current price of Bitcoin (BTC) in USD is approximately $58,705.66.\n"
     ]
    }
   ],
   "execution_count": 10
  },
  {
   "metadata": {},
   "cell_type": "code",
   "outputs": [],
   "execution_count": null,
   "source": "",
   "id": "4a21d0c5da980b95"
  }
 ],
 "metadata": {
  "kernelspec": {
   "display_name": "Python 3",
   "language": "python",
   "name": "python3"
  },
  "language_info": {
   "codemirror_mode": {
    "name": "ipython",
    "version": 2
   },
   "file_extension": ".py",
   "mimetype": "text/x-python",
   "name": "python",
   "nbconvert_exporter": "python",
   "pygments_lexer": "ipython2",
   "version": "2.7.6"
  }
 },
 "nbformat": 4,
 "nbformat_minor": 5
}
