{
 "cells": [
  {
   "cell_type": "code",
   "id": "initial_id",
   "metadata": {
    "collapsed": true,
    "ExecuteTime": {
     "end_time": "2025-10-15T10:48:24.718194Z",
     "start_time": "2025-10-15T10:48:23.872700Z"
    }
   },
   "source": [
    "from basic.utils import print_mcp_config\n",
    "print_mcp_config(\"server_with_resources.py\", \"finance\")"
   ],
   "outputs": [
    {
     "name": "stdout",
     "output_type": "stream",
     "text": [
      "{\n",
      "    \"mcpServers\": {\n",
      "        \"finance\": {\n",
      "            \"command\": \"/Users/aowczarek/.local/bin/uv\",\n",
      "            \"args\": [\n",
      "                \"--directory\",\n",
      "                \"/Users/aowczarek/Documents/gid/mcp-presentation/basic/part_10_resources\",\n",
      "                \"run\",\n",
      "                \"server_with_resources.py\"\n",
      "            ]\n",
      "        }\n",
      "    }\n",
      "}\n"
     ]
    }
   ],
   "execution_count": 1
  },
  {
   "metadata": {
    "ExecuteTime": {
     "end_time": "2025-10-15T10:50:57.207280Z",
     "start_time": "2025-10-15T10:49:38.753147Z"
    }
   },
   "cell_type": "code",
   "source": "!npx --yes @modelcontextprotocol/inspector $(which uv) run $(pwd)/server_with_resources.py",
   "id": "8252fa219a5e2601",
   "outputs": [
    {
     "name": "stdout",
     "output_type": "stream",
     "text": [
      "\u001B[1G\u001B[0K⠙\u001B[1G\u001B[0K⠹\u001B[1G\u001B[0K⠸\u001B[1G\u001B[0K⠼\u001B[1G\u001B[0K⠴\u001B[1G\u001B[0K⠦\u001B[1G\u001B[0KStarting MCP inspector...\r\n",
      "⚙️ Proxy server listening on localhost:6277\r\n",
      "🔑 Session token: 16081fe95fab0b51ac854882ceb64f69595eda0ad7d00d1095b2845e4740d5a9\r\n",
      "   Use this token to authenticate requests or set DANGEROUSLY_OMIT_AUTH=true to disable auth\r\n",
      "\r\n",
      "🚀 MCP Inspector is up and running at:\r\n",
      "   http://localhost:6274/?MCP_PROXY_AUTH_TOKEN=16081fe95fab0b51ac854882ceb64f69595eda0ad7d00d1095b2845e4740d5a9\r\n",
      "\r\n",
      "🌐 Opening browser...\r\n",
      "New STDIO connection request\r\n",
      "Query parameters: {\"command\":\"/Users/aowczarek/.local/bin/uv\",\"args\":\"run /Users/aowczarek/Documents/gid/mcp-presentation/basic/part_10_resources/server_with_resources.py\",\"env\":\"{\\\"HOME\\\":\\\"/Users/aowczarek\\\",\\\"LOGNAME\\\":\\\"aowczarek\\\",\\\"PATH\\\":\\\"/Users/aowczarek/.npm/_npx/5a9d879542beca3a/node_modules/.bin:/Users/aowczarek/Documents/gid/mcp-presentation/basic/part_10_resources/node_modules/.bin:/Users/aowczarek/Documents/gid/mcp-presentation/basic/node_modules/.bin:/Users/aowczarek/Documents/gid/mcp-presentation/node_modules/.bin:/Users/aowczarek/Documents/gid/node_modules/.bin:/Users/aowczarek/Documents/node_modules/.bin:/Users/aowczarek/node_modules/.bin:/Users/node_modules/.bin:/node_modules/.bin:/Users/aowczarek/.nvm/versions/node/v22.15.1/lib/node_modules/npm/node_modules/@npmcli/run-script/lib/node-gyp-bin:/Users/aowczarek/.local/bin:/Users/aowczarek/.nvm/versions/node/v22.15.1/bin:/Users/aowczarek/.sdkman/candidates/scala/current/bin:/Users/aowczarek/.sdkman/candidates/sbt/current/bin:/Users/aowczarek/.sdkman/candidates/java/current/bin:/opt/homebrew/bin:/opt/homebrew/sbin:/Users/aowczarek/.cargo/bin:/Users/aowczarek/.nix-profile/bin:/run/current-system/sw/bin:/nix/var/nix/profiles/default/bin:/usr/local/bin:/usr/bin:/bin:/usr/sbin:/sbin:/Users/aowczarek/Library/Application Support/JetBrains/Toolbox/scripts:/Users/aowczarek/.lmstudio/bin\\\",\\\"SHELL\\\":\\\"/bin/zsh\\\",\\\"TERM\\\":\\\"xterm-color\\\",\\\"USER\\\":\\\"aowczarek\\\"}\",\"transportType\":\"stdio\"}\r\n",
      "STDIO transport: command=/Users/aowczarek/.local/bin/uv, args=run,/Users/aowczarek/Documents/gid/mcp-presentation/basic/part_10_resources/server_with_resources.py\r\n",
      "Created client transport\r\n",
      "Created server transport\r\n",
      "Received POST message for sessionId b23e90e8-316e-4eb4-8147-b6b254e3c861\r\n",
      "Received POST message for sessionId b23e90e8-316e-4eb4-8147-b6b254e3c861\r\n",
      "Received POST message for sessionId b23e90e8-316e-4eb4-8147-b6b254e3c861\r\n",
      "Received POST message for sessionId b23e90e8-316e-4eb4-8147-b6b254e3c861\r\n",
      "Received POST message for sessionId b23e90e8-316e-4eb4-8147-b6b254e3c861\r\n",
      "Received POST message for sessionId b23e90e8-316e-4eb4-8147-b6b254e3c861\r\n",
      "^C\r\n",
      "\u001B[1G\u001B[0K⠙\u001B[1G\u001B[0K"
     ]
    }
   ],
   "execution_count": 2
  }
 ],
 "metadata": {
  "kernelspec": {
   "display_name": "Python 3",
   "language": "python",
   "name": "python3"
  },
  "language_info": {
   "codemirror_mode": {
    "name": "ipython",
    "version": 2
   },
   "file_extension": ".py",
   "mimetype": "text/x-python",
   "name": "python",
   "nbconvert_exporter": "python",
   "pygments_lexer": "ipython2",
   "version": "2.7.6"
  }
 },
 "nbformat": 4,
 "nbformat_minor": 5
}
