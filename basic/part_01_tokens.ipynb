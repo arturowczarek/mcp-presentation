{
 "cells": [
  {
   "cell_type": "code",
   "id": "initial_id",
   "metadata": {
    "collapsed": true
   },
   "source": [
    "import os\n",
    "from dotenv import load_dotenv\n",
    "from huggingface_hub import login\n",
    "from transformers import AutoTokenizer\n",
    "from basic.utils import dict_to_table\n",
    "load_dotenv(override=True)"
   ],
   "outputs": [],
   "execution_count": null
  },
  {
   "metadata": {},
   "cell_type": "code",
   "source": "login(token = os.getenv('HF_TOKEN'), add_to_git_credential=True)",
   "id": "4920d17169c9b9fb",
   "outputs": [],
   "execution_count": null
  },
  {
   "metadata": {},
   "cell_type": "markdown",
   "source": "# Encoding",
   "id": "ea10355c883be75d"
  },
  {
   "metadata": {},
   "cell_type": "markdown",
   "source": [
    "## OpenAI tokenization\n",
    "https://platform.openai.com/tokenizer\n",
    "\n",
    "https://tiktokenizer.vercel.app/"
   ],
   "id": "15af65f1c871959d"
  },
  {
   "metadata": {},
   "cell_type": "code",
   "source": [
    "import tiktoken\n",
    "enc = tiktoken.encoding_for_model(\"gpt-4o-mini\")\n",
    "text = \"What is the capital of Poland?\"\n",
    "\n",
    "# Encode into token IDs\n",
    "tokens = enc.encode(text)\n",
    "print(\"Token IDs:\", tokens)\n",
    "\n",
    "# Decode IDs back into strings\n",
    "print(\"Decoded pieces:\", [enc.decode([t]) for t in tokens])"
   ],
   "id": "41a39a45e3109eb0",
   "outputs": [],
   "execution_count": null
  },
  {
   "metadata": {},
   "cell_type": "code",
   "source": [
    "# The same text may be tokenized differently\n",
    "tokens = enc.encode(\"of of\")\n",
    "print(\"Token IDs:\", tokens)\n",
    "print(\"Decoded pieces:\", [enc.decode([t]) for t in tokens])"
   ],
   "id": "a74078e8d6863c29",
   "outputs": [],
   "execution_count": null
  },
  {
   "metadata": {},
   "cell_type": "markdown",
   "source": "## LLama tokenization",
   "id": "787e0e020ed81c1e"
  },
  {
   "metadata": {},
   "cell_type": "code",
   "source": [
    "tokenizer = AutoTokenizer.from_pretrained('meta-llama/Llama-3.2-3B-Instruct', trust_remote_code=True)\n",
    "text = \"What is the capital of Poland?\"\n",
    "tokens = tokenizer.encode(text)\n",
    "tokens"
   ],
   "id": "7e18fbf69dfee1ba",
   "outputs": [],
   "execution_count": null
  },
  {
   "metadata": {},
   "cell_type": "code",
   "source": "tokenizer.decode(tokens)",
   "id": "dc62f3dda40c6bdd",
   "outputs": [],
   "execution_count": null
  },
  {
   "metadata": {},
   "cell_type": "code",
   "source": "dict_to_table(tokenizer.vocab)",
   "id": "2e1e45163d5fbe76",
   "outputs": [],
   "execution_count": null
  },
  {
   "metadata": {},
   "cell_type": "code",
   "source": [
    "def token_to_text(t, value):\n",
    "    return [k for k, v in t.items() if v == value]"
   ],
   "id": "505133d797c3bc3c",
   "outputs": [],
   "execution_count": null
  },
  {
   "metadata": {},
   "cell_type": "code",
   "source": "token_to_text(tokenizer.vocab, 3923)",
   "id": "7da6adf9ed31f7c4",
   "outputs": [],
   "execution_count": null
  },
  {
   "metadata": {},
   "cell_type": "code",
   "source": "dict_to_table(tokenizer.get_added_vocab())",
   "id": "fb1115690c8d7243",
   "outputs": [],
   "execution_count": null
  },
  {
   "metadata": {},
   "cell_type": "markdown",
   "source": "## Tokenizing the chat conversation",
   "id": "c915e739dd8f0768"
  },
  {
   "metadata": {},
   "cell_type": "code",
   "source": [
    "messages=[\n",
    "    {\"role\": \"system\", \"content\": \"You are a helpful assistant that is good with geography.\"},\n",
    "    {\"role\": \"user\", \"content\": \"What is the capital of Poland?\"},\n",
    "    {\"role\": \"assistant\", \"content\": \"The capital of Poland is Warsaw.\"},\n",
    "    {\"role\": \"user\", \"content\": \"And of Germany?\"},\n",
    "]"
   ],
   "id": "b72bfcd1d8ba7560",
   "outputs": [],
   "execution_count": null
  },
  {
   "metadata": {},
   "cell_type": "code",
   "source": [
    "prompt = tokenizer.apply_chat_template(messages, tokenize=False, add_generation_prompt=True)\n",
    "print(prompt)"
   ],
   "id": "124f6c3a3c87d148",
   "outputs": [],
   "execution_count": null
  },
  {
   "metadata": {},
   "cell_type": "code",
   "source": "",
   "id": "4ce74b0fd80210b2",
   "outputs": [],
   "execution_count": null
  }
 ],
 "metadata": {
  "kernelspec": {
   "display_name": "Python 3",
   "language": "python",
   "name": "python3"
  },
  "language_info": {
   "codemirror_mode": {
    "name": "ipython",
    "version": 2
   },
   "file_extension": ".py",
   "mimetype": "text/x-python",
   "name": "python",
   "nbconvert_exporter": "python",
   "pygments_lexer": "ipython2",
   "version": "2.7.6"
  }
 },
 "nbformat": 4,
 "nbformat_minor": 5
}
